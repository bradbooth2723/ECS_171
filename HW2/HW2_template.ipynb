{
 "cells": [
  {
   "cell_type": "markdown",
   "id": "0ceeeb46",
   "metadata": {},
   "source": [
    "# Homework 2\n",
    "\n",
    "For this assignment, you will be developing an artificial neural network to classify data given in the __[Dry Beans Data Set](https://archive.ics.uci.edu/ml/datasets/Dry+Bean+Dataset#)__. This data set was obtained as a part of a research study by Selcuk University, Turkey, in which a computer vision system was developed to distinguish seven different registered varieties of dry beans with similar features. More details on the study can be found in the following __[research paper](https://www.sciencedirect.com/science/article/pii/S0168169919311573)__.\n",
    "\n",
    "## About the Data Set\n",
    "Seven different types of dry beans were used in a study in Selcuk University, Turkey, taking into account the features such as form, shape, type, and structure by the market situation. A computer vision system was developed to distinguish seven different registered varieties of dry beans with similar features in order to obtain uniform seed classification. For the classification model, images of 13611 grains of 7 different registered dry beans were taken with a high-resolution camera. Bean images obtained by computer vision system were subjected to segmentation and feature extraction stages, and a total of 16 features - 12 dimensions and 4 shape forms - were obtained from the grains.\n",
    "\n",
    "Number of Instances (records in the data set): __13611__\n",
    "\n",
    "Number of Attributes (fields within each record, including the class): __17__\n",
    "\n",
    "### Data Set Attribute Information:\n",
    "\n",
    "1. __Area (A)__ : The area of a bean zone and the number of pixels within its boundaries.\n",
    "2. __Perimeter (P)__ : Bean circumference is defined as the length of its border.\n",
    "3. __Major axis length (L)__ : The distance between the ends of the longest line that can be drawn from a bean.\n",
    "4. __Minor axis length (l)__ : The longest line that can be drawn from the bean while standing perpendicular to the main axis.\n",
    "5. __Aspect ratio (K)__ : Defines the relationship between L and l.\n",
    "6. __Eccentricity (Ec)__ : Eccentricity of the ellipse having the same moments as the region.\n",
    "7. __Convex area (C)__ : Number of pixels in the smallest convex polygon that can contain the area of a bean seed.\n",
    "8. __Equivalent diameter (Ed)__ : The diameter of a circle having the same area as a bean seed area.\n",
    "9. __Extent (Ex)__ : The ratio of the pixels in the bounding box to the bean area.\n",
    "10. __Solidity (S)__ : Also known as convexity. The ratio of the pixels in the convex shell to those found in beans.\n",
    "11. __Roundness (R)__ : Calculated with the following formula: (4piA)/(P^2)\n",
    "12. __Compactness (CO)__ : Measures the roundness of an object: Ed/L\n",
    "13. __ShapeFactor1 (SF1)__\n",
    "14. __ShapeFactor2 (SF2)__\n",
    "15. __ShapeFactor3 (SF3)__\n",
    "16. __ShapeFactor4 (SF4)__\n",
    "\n",
    "17. __Classes : *Seker, Barbunya, Bombay, Cali, Dermosan, Horoz, Sira*__"
   ]
  },
  {
   "cell_type": "markdown",
   "id": "61beac74",
   "metadata": {},
   "source": [
    "### Libraries that can be used :\n",
    "- NumPy, SciPy, Pandas, Sci-Kit Learn, TensorFlow, Keras\n",
    "- Any other library used during the lectures and discussion sessions.\n",
    "\n",
    "### Other Notes\n",
    "- Don't worry about not being able to achieve high accuracy, it is neither the goal nor the grading standard of this assignment.\n",
    "- Discussion materials should be helpful for doing the assignments.\n",
    "- The homework submission should be a .ipynb file.\n"
   ]
  },
  {
   "cell_type": "markdown",
   "id": "0264c751",
   "metadata": {},
   "source": [
    "\n",
    "## Exercise 1 : Building a Feed-Forward Neural Network(50 points)\n",
    "\n",
    "### Exercise 1.1 : Data Preprocessing (10 points)\n",
    "\n",
    "- As the classes are categorical, use one-hot encoding to represent the set of classes. You will find this useful when developing the output layer of the neural network.\n",
    "- Normalize each field of the input data using the min-max normalization technique.\n",
    "\n",
    "### Exercise 1.2 : Training and Testing the Neural Network (40 points)\n",
    "\n",
    "Design a 4-layer artificial neural network, specifically a feed-forward multi-layer perceptron (using the sigmoid activation function), to classify the type of 'Dry Bean' given the other attributes in the data set, similar to the one mentioned in the paper above. Please note that this is a multi-class classification problem so select the right number of nodes accordingly for the output layer.\n",
    "\n",
    "For training and testing the model, split the data into training and testing set by __90:10__ and use the training set for training the model and the test set to evaluate the model performance.\n",
    "\n",
    "Consider the following hyperparameters while developing your model :\n",
    "\n",
    "- Number of nodes in each hidden layer should be (12, 3)\n",
    "- Learning rate should be 0.3\n",
    "- Number of epochs should be 500\n",
    "- The sigmoid function should be used as the activation function in each layer\n",
    "- Stochastic Gradient Descent should be used to minimize the error rate\n",
    "\n",
    "__Requirements once the model has been trained :__\n",
    "\n",
    "- A confusion matrix for all classes, specifying the true positive, true negative, false positive, and false negative cases for each category in the class\n",
    "- The accuracy and mean squared error (MSE) of the model\n",
    "- The precision and recall for each label in the class\n",
    "\n",
    "__Notes :__\n",
    "\n",
    "- Splitting of the dataset should be done __after__ the data preprocessing step.\n",
    "- The mean squared error (MSE) values obtained __should be positive__.\n"
   ]
  },
  {
   "cell_type": "markdown",
   "id": "a259a9eb",
   "metadata": {},
   "source": [
    "# Exercise 1.1"
   ]
  },
  {
   "cell_type": "code",
   "execution_count": 3,
   "id": "a4cb5d20",
   "metadata": {},
   "outputs": [
    {
     "name": "stdout",
     "output_type": "stream",
     "text": [
      "       SIRA  DERMANSON  BOMBAY  BARBUNYA  HOROZ  SEKER  CALI\n",
      "0       1.0        0.0     0.0       0.0    0.0    0.0   0.0\n",
      "1       0.0        1.0     0.0       0.0    0.0    0.0   0.0\n",
      "2       0.0        1.0     0.0       0.0    0.0    0.0   0.0\n",
      "3       1.0        0.0     0.0       0.0    0.0    0.0   0.0\n",
      "4       0.0        1.0     0.0       0.0    0.0    0.0   0.0\n",
      "...     ...        ...     ...       ...    ...    ...   ...\n",
      "13606   0.0        1.0     0.0       0.0    0.0    0.0   0.0\n",
      "13607   0.0        0.0     1.0       0.0    0.0    0.0   0.0\n",
      "13608   1.0        0.0     0.0       0.0    0.0    0.0   0.0\n",
      "13609   0.0        0.0     0.0       0.0    1.0    0.0   0.0\n",
      "13610   1.0        0.0     0.0       0.0    0.0    0.0   0.0\n",
      "\n",
      "[13611 rows x 7 columns]\n",
      "\n",
      "(10888, 16) (10888, 7)\n",
      "(2723, 16) (2723, 7)\n"
     ]
    }
   ],
   "source": [
    "import numpy as np\n",
    "import pandas as pd\n",
    "from sklearn.model_selection import train_test_split\n",
    "from sklearn.preprocessing import OneHotEncoder\n",
    "#Yay, we did it!!! We started the project...nothing can stop us now!!  Except numpy arrays.  Fuck that!!!!!!!!\n",
    "\n",
    "\n",
    "df = pd.read_csv('./Dry_Beans_Dataset.csv')\n",
    "\n",
    "yTemp = df['Class']\n",
    "x = df.drop('Class', axis=1)\n",
    "\n",
    "x = ((x - x.min().min())/(x.max().max()-x.min().min()))  #Normallizing the data\n",
    "\n",
    "#Decided to implement my own 1 hot encoding scheme\n",
    "data = {\n",
    "    'SIRA':[0,0,0,0,0,0,1],\n",
    "    'DERMANSON':[0,0,0,0,0,1,0],\n",
    "    'BOMBAY':[0,0,0,0,1,0,0],\n",
    "    'BARBUNYA':[0,0,0,1,0,0,0],\n",
    "    'HOROZ':[0,0,1,0,0,0,0],\n",
    "    'SEKER':[0,1,0,0,0,0,0],\n",
    "    'CALI':[1,0,0,0,0,0,0]\n",
    "}\n",
    "dataE = {\n",
    "    'SIRA':[],\n",
    "    'DERMANSON':[],\n",
    "    'BOMBAY':[],\n",
    "    'BARBUNYA':[],\n",
    "    'HOROZ':[],\n",
    "    'SEKER':[],\n",
    "    'CALI':[]\n",
    "}\n",
    "temp = pd.DataFrame(data)\n",
    "y = pd.DataFrame(dataE)\n",
    "\n",
    "for i in yTemp:\n",
    "    if(i == 'SIRA'):\n",
    "        y = pd.concat([y, temp.iloc[[6], :]])\n",
    "    elif(i == 'DERMASON'):\n",
    "        y = pd.concat([y, temp.iloc[[5], :]])\n",
    "    elif(i == 'BOMBAY'):\n",
    "        y = pd.concat([y, temp.iloc[[4], :]])\n",
    "    elif(i == 'BARBUNYA'):\n",
    "        y = pd.concat([y, temp.iloc[[3], :]])\n",
    "    elif(i == 'HOROZ'):\n",
    "        y = pd.concat([y, temp.iloc[[2], :]])\n",
    "    elif(i == 'SEKER'):\n",
    "        y = pd.concat([y, temp.iloc[[1], :]])\n",
    "    elif(i == 'CALI'):\n",
    "        y = pd.concat([y, temp.iloc[[0], :]])\n",
    "y = y.reset_index()\n",
    "y = y.drop('index', axis=1)\n",
    "print(y)\n",
    "\n",
    "xTrain, xTest, yTrain, yTest = train_test_split(x, y, test_size = 0.20, random_state=5)\n",
    "print(\"\")\n",
    "print(xTrain.shape, yTrain.shape)\n",
    "print(xTest.shape, yTest.shape)"
   ]
  },
  {
   "cell_type": "markdown",
   "id": "57715665",
   "metadata": {},
   "source": [
    "# Exercise 1.2"
   ]
  },
  {
   "cell_type": "code",
   "execution_count": 4,
   "id": "6e83b698",
   "metadata": {
    "scrolled": true
   },
   "outputs": [],
   "source": [
    "import math\n",
    "\n",
    "x = xTrain.to_numpy()\n",
    "yT = yTrain.to_numpy()\n",
    "\n",
    "layer1 = np.random.rand(12,16)\n",
    "z1 = np.ones((12,1))\n",
    "layer1Out = np.ones((12,1))\n",
    "\n",
    "layer2 = np.random.rand(3,12)\n",
    "z2 = np.ones((3,1))\n",
    "layer2Out = np.ones((3,1))\n",
    "\n",
    "layer3 = np.random.rand(7,3)\n",
    "z3 = np.ones((7,1))\n",
    "output = np.ones((7,1))\n",
    "\n",
    "for m in range(500):\n",
    "    for n in range(x.shape[0]):\n",
    "        #Forward feed layer 1\n",
    "        for i in range(12):\n",
    "            z1[i] = np.dot(x[n,:], layer1[i,:]) \n",
    "            layer1Out[i] = 1/(1+ math.exp(z1[i]))\n",
    "        \n",
    "        #Forward feed layer 2\n",
    "        for i in range(3):\n",
    "            z2[i] = np.dot(layer1Out.transpose(), layer2[i,:]) \n",
    "            layer2Out[i] = 1/(1+ math.exp(z2[i]))\n",
    "        \n",
    "        #Forward feed output layer\n",
    "        for i in range(7):\n",
    "            z3[i] = np.dot(layer2Out.transpose(), layer3[i,:]) \n",
    "            output[i] = 1/(1+ math.exp(z3[i]))\n",
    "\n",
    "        #Back propagation, output to layer 2\n",
    "        for i in range(3):\n",
    "            for j in range(7):\n",
    "                yTemp = yT[n, :]\n",
    "                layer3[j,i] = layer3[j,i] + .3*output[j]*(1-output[j])*(yTemp[j] - output[j])*layer2Out[i]\n",
    "        \n",
    "        #Back propagation, layer 2 to layer 1\n",
    "        for i in range(12):\n",
    "            for j in range(3):\n",
    "                layer2[j,i] = layer2[j,i] + .3*layer2Out[j]*(1-layer2Out[j])*z2[j]*layer1Out[i]\n",
    "\n",
    "        #Back propagation, layer 1 to input weights\n",
    "        for i in range(16):\n",
    "            for j in range(12):\n",
    "                xTemp = x[n, :]\n",
    "                layer1[j,i] = layer1[j,i] + .3*layer1Out[j]*(1-layer1Out[j])*z1[j]*xTemp[i]\n"
   ]
  },
  {
   "cell_type": "code",
   "execution_count": 5,
   "id": "fcfba6ef",
   "metadata": {},
   "outputs": [
    {
     "name": "stdout",
     "output_type": "stream",
     "text": [
      "[[5.18307403e+01 1.65539395e+00 1.33217486e+00 8.11514097e-01\n",
      "  1.28057659e-01 4.09213459e-02 5.25605018e+01 8.08840395e-01\n",
      "  3.11445694e-01 8.47016657e-01 7.76634207e-01 3.07693244e-01\n",
      "  9.84577577e-01 5.68032187e-01 8.64025360e-01 3.87398350e-01]\n",
      " [5.20707505e+01 1.74406037e+00 6.06594805e-01 2.78319623e-01\n",
      "  2.19269869e-01 1.64903722e-01 5.23283060e+01 1.13949692e+00\n",
      "  6.46582117e-02 3.19943743e-01 3.78352916e-01 8.34565474e-03\n",
      "  8.49150178e-01 1.95223965e-01 9.50733875e-01 4.70575890e-01]\n",
      " [5.17927405e+01 1.52311937e+00 1.36908531e+00 7.31153994e-01\n",
      "  8.38890251e-01 2.80864949e-01 5.26019874e+01 6.97963214e-01\n",
      "  1.51888933e-01 9.22852965e-01 7.64072833e-01 5.82533795e-01\n",
      "  6.20711303e-01 1.82480706e-01 8.60824240e-01 5.46943720e-01]\n",
      " [5.22174604e+01 1.55630092e+00 4.16342695e-01 7.19691837e-01\n",
      "  1.96348250e-01 6.97475346e-01 5.21918514e+01 3.60656241e-01\n",
      "  6.03951118e-01 7.06620824e-01 4.65066842e-01 8.30840579e-01\n",
      "  1.43163270e-01 4.76256139e-01 1.96012894e-01 1.68452269e-01]\n",
      " [5.22423116e+01 1.50211190e+00 1.31951014e+00 2.91583008e-01\n",
      "  3.87217977e-01 9.80027769e-01 5.21582829e+01 1.15539277e+00\n",
      "  2.87127093e-01 1.86067667e-01 8.60482249e-02 1.78459710e-01\n",
      "  7.65600419e-01 7.52100867e-01 8.80046500e-01 9.04376704e-01]\n",
      " [5.19115530e+01 1.07967896e+00 4.76873120e-01 6.80657510e-01\n",
      "  2.36916413e-01 6.98689112e-01 5.25024906e+01 5.64797081e-01\n",
      "  7.91038055e-01 9.62236812e-01 7.02730524e-01 7.01813505e-01\n",
      "  6.82309533e-01 4.27645746e-01 4.54059292e-01 4.30096506e-01]\n",
      " [5.19312894e+01 1.73896346e+00 1.05563051e+00 5.59778408e-01\n",
      "  7.79334619e-01 7.43787853e-01 5.24656622e+01 3.84007095e-01\n",
      "  6.10801388e-01 6.11572658e-01 7.51415011e-01 5.14515740e-01\n",
      "  3.01173430e-01 5.49014749e-02 2.19603497e-01 8.46068592e-01]\n",
      " [5.16605342e+01 1.23859316e+00 8.23029215e-01 7.15044042e-01\n",
      "  3.68039261e-01 8.79867153e-01 5.27430355e+01 7.47622532e-01\n",
      "  7.29786944e-01 5.50808726e-01 6.03490084e-01 8.77845086e-01\n",
      "  5.57588865e-01 4.25016777e-01 5.94041412e-01 3.69378438e-01]\n",
      " [5.16588191e+01 1.77481329e+00 8.28885205e-01 8.35518273e-01\n",
      "  1.69739827e-01 1.86793016e-01 5.27292437e+01 1.21312245e+00\n",
      "  6.22127124e-01 8.35159083e-02 9.41966754e-01 2.47593094e-01\n",
      "  2.79829102e-01 2.59913367e-01 6.37670207e-01 5.69326692e-01]\n",
      " [5.15660915e+01 1.55245617e+00 5.73841284e-01 4.98871429e-01\n",
      "  1.66598932e-01 8.46879321e-02 5.28352914e+01 3.40097237e-01\n",
      "  5.52142472e-01 9.67866913e-01 2.59765972e-01 7.10491078e-01\n",
      "  1.62877873e-01 4.87337567e-01 4.76428622e-01 2.82133453e-01]\n",
      " [5.15802705e+01 1.28660435e+00 1.10042626e+00 6.72029273e-01\n",
      "  7.63539512e-01 3.59980464e-01 5.28189458e+01 7.95354401e-01\n",
      "  3.22942662e-01 1.79641758e-01 7.55409179e-01 1.50801547e-01\n",
      "  4.52710878e-01 4.32115760e-01 5.26652511e-01 6.16260750e-01]\n",
      " [5.21677064e+01 1.31561721e+00 7.73425241e-01 4.88552991e-01\n",
      "  4.37347866e-01 1.24192550e-01 5.22432014e+01 5.86748733e-01\n",
      "  6.98087100e-01 3.52764963e-01 9.11849745e-01 8.80994748e-01\n",
      "  8.30573825e-01 5.64273299e-01 7.63789495e-01 3.92925234e-01]]\n"
     ]
    }
   ],
   "source": [
    "print(layer1)"
   ]
  },
  {
   "cell_type": "markdown",
   "id": "bf29d261",
   "metadata": {},
   "source": [
    "So theoretically, I should be able to feed data points through the layers above.  This would be the prediction.  Then I cross check that with the output?  I don't think I will do that. I wrote the above as an exercise for myself to try to understand better what I am accomplishing.  It took a couple of hours to run.  Below is my neural net using tensorflow."
   ]
  },
  {
   "cell_type": "code",
   "execution_count": 6,
   "id": "4a1f671b",
   "metadata": {},
   "outputs": [],
   "source": [
    "from tensorflow.keras.models import Sequential\n",
    "from tensorflow.keras.layers import Dense\n",
    "from tensorflow.keras.optimizers import SGD \n",
    "\n",
    "model = Sequential(name = 'classifier') #classifier doesn't do anything(I think)...just the name of the model\n",
    "\n",
    "layers = [\n",
    "    Dense(12, activation='sigmoid', name =\"layer1\"),\n",
    "    Dense(3, activation='sigmoid', name =\"layer2\"),\n",
    "    Dense(7, activation='sigmoid')\n",
    "]\n",
    "\n",
    "#Add each layer to the model\n",
    "for layer in layers:\n",
    "    model.add(layer)\n",
    "    \n",
    "model.compile(optimizer=SGD(learning_rate=0.3), loss='mse', metrics=['accuracy'])\n",
    "\n",
    "hist = model.fit(x, y, validation_split=0.2, epochs=500, verbose=0) \n",
    "#Why did we split the model into training and testing data, only to not use it here."
   ]
  },
  {
   "cell_type": "code",
   "execution_count": 7,
   "id": "63dc66f8",
   "metadata": {},
   "outputs": [
    {
     "name": "stdout",
     "output_type": "stream",
     "text": [
      "Training Error: 0.118\n",
      "Training Accuracy: 0.261\n"
     ]
    }
   ],
   "source": [
    "pred_train= model.predict(xTrain)\n",
    "score, acc = model.evaluate(xTrain, yTrain, verbose=0)\n",
    "print('Training Error: %.3f' % score)\n",
    "print('Training Accuracy: %.3f' % acc)"
   ]
  },
  {
   "cell_type": "code",
   "execution_count": 8,
   "id": "ae2edd05",
   "metadata": {},
   "outputs": [
    {
     "name": "stdout",
     "output_type": "stream",
     "text": [
      "Test Error: 0.118\n",
      "Test Accuracy: 0.259\n"
     ]
    }
   ],
   "source": [
    "pred_train= model.predict(xTest)\n",
    "score, acc = model.evaluate(xTest, yTest, verbose=0)\n",
    "print('Test Error: %.3f' % score)\n",
    "print('Test Accuracy: %.3f' % acc)"
   ]
  },
  {
   "cell_type": "code",
   "execution_count": 9,
   "id": "cfaa4995",
   "metadata": {},
   "outputs": [
    {
     "data": {
      "text/plain": [
       "dict_keys(['loss', 'accuracy', 'val_loss', 'val_accuracy'])"
      ]
     },
     "execution_count": 9,
     "metadata": {},
     "output_type": "execute_result"
    }
   ],
   "source": [
    "hist.history.keys()"
   ]
  },
  {
   "cell_type": "code",
   "execution_count": 10,
   "id": "d35cc1ac",
   "metadata": {},
   "outputs": [
    {
     "data": {
      "image/png": "[encoded data removed]",
      "text/plain": [
       "<Figure size 432x288 with 1 Axes>"
      ]
     },
     "metadata": {
      "needs_background": "light"
     },
     "output_type": "display_data"
    }
   ],
   "source": [
    "import matplotlib.pyplot as plt\n",
    "\n",
    "plt.plot(hist.history['loss'])\n",
    "plt.plot(hist.history['val_loss'])\n",
    "plt.title('Model Loss Curve')\n",
    "plt.ylabel('Loss')\n",
    "plt.xlabel('Epoch')\n",
    "plt.legend(['train', 'test'], loc='upper right')\n",
    "plt.show()"
   ]
  },
  {
   "cell_type": "code",
   "execution_count": 11,
   "id": "c122f9b1",
   "metadata": {},
   "outputs": [
    {
     "data": {
      "image/png": "[encoded data removed]",
      "text/plain": [
       "<Figure size 432x288 with 1 Axes>"
      ]
     },
     "metadata": {
      "needs_background": "light"
     },
     "output_type": "display_data"
    }
   ],
   "source": [
    "plt.plot(hist.history['accuracy'])\n",
    "plt.plot(hist.history['val_accuracy'])\n",
    "plt.title('Model Accuracy')\n",
    "plt.ylabel('Accuracy')\n",
    "plt.xlabel('Epochs')\n",
    "plt.legend(['train', 'test'], loc='upper left')\n",
    "plt.show()"
   ]
  },
  {
   "cell_type": "markdown",
   "id": "c235bdff",
   "metadata": {},
   "source": [
    "I feel like the accuracy is pretty low.  I know we were told not that accuracy is not important but I wonder if it has anything to do with my one hot encoding. Let me try using the actual one hot encoding library. brb"
   ]
  },
  {
   "cell_type": "code",
   "execution_count": 12,
   "id": "217f1e7b",
   "metadata": {},
   "outputs": [
    {
     "name": "stdout",
     "output_type": "stream",
     "text": [
      "0            SIRA\n",
      "1        DERMASON\n",
      "2        DERMASON\n",
      "3            SIRA\n",
      "4        DERMASON\n",
      "           ...   \n",
      "13606    DERMASON\n",
      "13607      BOMBAY\n",
      "13608        SIRA\n",
      "13609       HOROZ\n",
      "13610        SIRA\n",
      "Name: Class, Length: 13611, dtype: object\n",
      "       BARBUNYA  BOMBAY  CALI  DERMASON  HOROZ  SEKER  SIRA\n",
      "0             0       0     0         0      0      0     1\n",
      "1             0       0     0         1      0      0     0\n",
      "2             0       0     0         1      0      0     0\n",
      "3             0       0     0         0      0      0     1\n",
      "4             0       0     0         1      0      0     0\n",
      "...         ...     ...   ...       ...    ...    ...   ...\n",
      "13606         0       0     0         1      0      0     0\n",
      "13607         0       1     0         0      0      0     0\n",
      "13608         0       0     0         0      0      0     1\n",
      "13609         0       0     0         0      1      0     0\n",
      "13610         0       0     0         0      0      0     1\n",
      "\n",
      "[13611 rows x 7 columns]\n"
     ]
    }
   ],
   "source": [
    "from sklearn.preprocessing import OneHotEncoder\n",
    "df = pd.read_csv('./Dry_Beans_Dataset.csv')\n",
    "\n",
    "yTemp = df['Class']\n",
    "x = df.drop('Class', axis=1)\n",
    "\n",
    "x = ((x - x.min().min())/(x.max().max()-x.min().min()))  #Normallizing the data\n",
    "\n",
    "print(yTemp)\n",
    "y = pd.get_dummies(data = yTemp, columns=['class'])\n",
    "print(y)"
   ]
  },
  {
   "cell_type": "code",
   "execution_count": 13,
   "id": "e46d3128",
   "metadata": {},
   "outputs": [],
   "source": [
    "from tensorflow.keras.models import Sequential\n",
    "from tensorflow.keras.layers import Dense\n",
    "from tensorflow.keras.optimizers import SGD \n",
    "\n",
    "model = Sequential(name = 'classifier') #classifier doesn't do anything(I think)...just the name of the model\n",
    "\n",
    "layers = [\n",
    "    Dense(12, activation='sigmoid', name =\"layer1\"),\n",
    "    Dense(3, activation='sigmoid', name =\"layer2\"),\n",
    "    Dense(7, activation='sigmoid')\n",
    "]\n",
    "\n",
    "#Add each layer to the model\n",
    "for layer in layers:\n",
    "    model.add(layer)\n",
    "    \n",
    "model.compile(optimizer=SGD(learning_rate=0.3), loss='mse', metrics=['accuracy'])\n",
    "\n",
    "hist = model.fit(x, y, validation_split=0.2, epochs=500, verbose=0)"
   ]
  },
  {
   "cell_type": "code",
   "execution_count": 14,
   "id": "dd11866a",
   "metadata": {},
   "outputs": [
    {
     "name": "stdout",
     "output_type": "stream",
     "text": [
      "\n",
      "(10888, 16) (10888, 7)\n",
      "(2723, 16) (2723, 7)\n"
     ]
    }
   ],
   "source": [
    "xTrain, xTest, yTrain, yTest = train_test_split(x, y, test_size = 0.20, random_state=5)\n",
    "print(\"\")\n",
    "print(xTrain.shape, yTrain.shape)\n",
    "print(xTest.shape, yTest.shape)"
   ]
  },
  {
   "cell_type": "code",
   "execution_count": 15,
   "id": "f6221605",
   "metadata": {},
   "outputs": [
    {
     "name": "stdout",
     "output_type": "stream",
     "text": [
      "Training Error: 0.071\n",
      "Training Accuracy: 0.623\n"
     ]
    }
   ],
   "source": [
    "pred_train= model.predict(xTrain)\n",
    "score, acc = model.evaluate(xTrain, yTrain, verbose=0)\n",
    "print('Training Error: %.3f' % score)\n",
    "print('Training Accuracy: %.3f' % acc)"
   ]
  },
  {
   "cell_type": "code",
   "execution_count": 16,
   "id": "3b170b6e",
   "metadata": {},
   "outputs": [
    {
     "name": "stdout",
     "output_type": "stream",
     "text": [
      "Test Error: 0.072\n",
      "Test Accuracy: 0.611\n"
     ]
    }
   ],
   "source": [
    "pred_train= model.predict(xTest)\n",
    "score, acc = model.evaluate(xTest, yTest, verbose=0)\n",
    "print('Test Error: %.3f' % score)\n",
    "print('Test Accuracy: %.3f' % acc)"
   ]
  },
  {
   "cell_type": "code",
   "execution_count": 17,
   "id": "fb4f1d21",
   "metadata": {},
   "outputs": [
    {
     "data": {
      "image/png": "[encoded data removed]",
      "text/plain": [
       "<Figure size 432x288 with 1 Axes>"
      ]
     },
     "metadata": {
      "needs_background": "light"
     },
     "output_type": "display_data"
    }
   ],
   "source": [
    "import matplotlib.pyplot as plt\n",
    "\n",
    "plt.plot(hist.history['loss'])\n",
    "plt.plot(hist.history['val_loss'])\n",
    "plt.title('Model Loss Curve')\n",
    "plt.ylabel('Loss')\n",
    "plt.xlabel('Epoch')\n",
    "plt.legend(['train', 'test'], loc='upper right')\n",
    "plt.show()"
   ]
  },
  {
   "cell_type": "code",
   "execution_count": 18,
   "id": "f2425ea8",
   "metadata": {},
   "outputs": [
    {
     "data": {
      "image/png": "[encoded data removed]",
      "text/plain": [
       "<Figure size 432x288 with 1 Axes>"
      ]
     },
     "metadata": {
      "needs_background": "light"
     },
     "output_type": "display_data"
    }
   ],
   "source": [
    "plt.plot(hist.history['accuracy'])\n",
    "plt.plot(hist.history['val_accuracy'])\n",
    "plt.title('Model Accuracy')\n",
    "plt.ylabel('Accuracy')\n",
    "plt.xlabel('Epochs')\n",
    "plt.legend(['train', 'test'], loc='upper left')\n",
    "plt.show()"
   ]
  },
  {
   "cell_type": "markdown",
   "id": "1ff2b3ca",
   "metadata": {},
   "source": [
    "Ok, so accuracy wasn't really affected.  So I have no idea how to improve this, or if it can be improved.  Honestly, not even sure if I have done anything right.  "
   ]
  },
  {
   "cell_type": "code",
   "execution_count": 19,
   "id": "fca09fda",
   "metadata": {
    "scrolled": false
   },
   "outputs": [
    {
     "name": "stdout",
     "output_type": "stream",
     "text": [
      "       BARBUNYA  BOMBAY  CALI  DERMASON  HOROZ  SEKER  SIRA\n",
      "2021          0       0     0         1      0      0     0\n",
      "7444          0       0     0         0      0      0     1\n",
      "578           0       0     0         0      0      0     1\n",
      "9324          1       0     0         0      0      0     0\n",
      "13044         0       0     0         1      0      0     0\n",
      "...         ...     ...   ...       ...    ...    ...   ...\n",
      "8075          0       0     0         0      0      0     1\n",
      "6756          0       0     1         0      0      0     0\n",
      "2637          1       0     0         0      0      0     0\n",
      "12997         0       0     0         1      0      0     0\n",
      "12505         0       0     0         0      1      0     0\n",
      "\n",
      "[2723 rows x 7 columns]\n",
      "[[1.82336569e-03 1.86264515e-04 1.56998634e-04 ... 5.84119558e-03\n",
      "  2.20877945e-01 1.20985925e-01]\n",
      " [1.44968033e-02 6.50227070e-04 2.11197138e-03 ... 8.85985196e-02\n",
      "  2.39136666e-01 3.80001843e-01]\n",
      " [2.30494142e-02 8.73535872e-04 3.84843349e-03 ... 1.51360363e-01\n",
      "  2.39236146e-01 4.49818999e-01]\n",
      " ...\n",
      " [3.34490120e-01 2.83830762e-02 4.89798069e-01 ... 1.92895174e-01\n",
      "  1.67799592e-02 8.79004598e-03]\n",
      " [3.99988890e-03 2.96980143e-04 4.16636467e-04 ... 1.68907344e-02\n",
      "  2.29526758e-01 1.98491514e-01]\n",
      " [9.27133858e-02 2.54768133e-03 2.85489857e-02 ... 4.48782802e-01\n",
      "  1.90648258e-01 5.13481617e-01]]\n",
      "tf.Tensor(\n",
      "[[  0   0 203   0  38   0  11]\n",
      " [  0 114   0   0   0   0   0]\n",
      " [  0   1 292   0  14   0   2]\n",
      " [  0   0   0 634   0   0  71]\n",
      " [  0   0  53   8 188   0 141]\n",
      " [  0   0   0 176  16   0 241]\n",
      " [  0   0   0  46  39   0 435]], shape=(7, 7), dtype=int32)\n"
     ]
    },
    {
     "data": {
      "text/plain": [
       "<sklearn.metrics._plot.confusion_matrix.ConfusionMatrixDisplay at 0x7fb73c4afcd0>"
      ]
     },
     "execution_count": 19,
     "metadata": {},
     "output_type": "execute_result"
    },
    {
     "data": {
      "image/png": "[encoded data removed]",
      "text/plain": [
       "<Figure size 432x288 with 2 Axes>"
      ]
     },
     "metadata": {
      "needs_background": "light"
     },
     "output_type": "display_data"
    }
   ],
   "source": [
    "from sklearn.metrics import multilabel_confusion_matrix\n",
    "from sklearn.metrics import ConfusionMatrixDisplay\n",
    "from tensorflow.math import confusion_matrix\n",
    "print(yTest)\n",
    "print(pred_train)\n",
    "\n",
    "y_test_arg=np.argmax(yTest.to_numpy(), axis=1)\n",
    "Y_pred = np.argmax(pred_train,axis=1)\n",
    "soConfused = multilabel_confusion_matrix(y_test_arg, Y_pred)\n",
    "print(confusion_matrix(y_test_arg, Y_pred))\n",
    "ConfusionMatrixDisplay.from_predictions(y_test_arg,Y_pred)\n",
    "\n",
    "#multilabel_confusion_matrix(yTest, pred_train)"
   ]
  },
  {
   "cell_type": "markdown",
   "id": "63687725",
   "metadata": {},
   "source": [
    "I have spent more time on tyring to implement a confusion matrix then I have the rest of this project so far.  I don't know what to do.  My struggles feel so far removed from the contents of the lectures.  All I am doing is copying TA's code and being like, \"Look, I gave it numbers and it gave me numbers.\" Are the numbers good bad, I don't know.  I am spending so much more time trying to figure how to get the data into the format the functions want, then actually trying to analyze the data or my results.  So much wasted time.  "
   ]
  },
  {
   "cell_type": "markdown",
   "id": "083f5188",
   "metadata": {},
   "source": [
    "## Exercise 2 : k-fold Cross Validation (20 points)\n",
    "\n",
    "In order to avoid using biased models, use 10-fold cross validation to generalize the model based on the given data set.\n",
    "\n",
    "__Requirements :__\n",
    "- The accuracy and MSE values during each iteration of the cross validation\n",
    "- The overall average accuracy and MSE value\n",
    "\n",
    "__Note :__ The mean squared error (MSE) values obtained should be positive."
   ]
  },
  {
   "cell_type": "code",
   "execution_count": 20,
   "id": "76bc736e",
   "metadata": {
    "scrolled": false
   },
   "outputs": [
    {
     "name": "stdout",
     "output_type": "stream",
     "text": [
      "Fold 1 - loss: 0.06966643035411835; accuracy: 62.48164176940918%\n",
      "Fold 2 - loss: 0.06857180595397949; accuracy: 63.26230764389038%\n",
      "Fold 3 - loss: 0.06938198208808899; accuracy: 61.572372913360596%\n",
      "Fold 4 - loss: 0.06941810250282288; accuracy: 61.93975210189819%\n",
      "Fold 5 - loss: 0.06898249685764313; accuracy: 63.335782289505005%\n",
      "Fold 6 - loss: 0.06894823163747787; accuracy: 62.30712532997131%\n",
      "Fold 7 - loss: 0.06637553870677948; accuracy: 63.923585414886475%\n",
      "Fold 8 - loss: 0.06613807380199432; accuracy: 64.95224237442017%\n",
      "Fold 9 - loss: 0.06922565400600433; accuracy: 61.79279685020447%\n",
      "Fold 10 - loss: 0.06456688791513443; accuracy: 66.71565175056458%\n"
     ]
    }
   ],
   "source": [
    "from sklearn.model_selection import KFold\n",
    "\n",
    "acc_per_fold = []\n",
    "loss_per_fold = []\n",
    "fold_num = 1\n",
    "\n",
    "kfold = KFold(n_splits=10, shuffle=True)\n",
    "\n",
    "for train, test in kfold.split(x, y):\n",
    "    # Train on different folds\n",
    "    #model = create_model()\n",
    "    hist = model.fit(x.iloc[train], y.iloc[train], epochs=500, verbose=0)\n",
    "    scores = model.evaluate(x.iloc[test], y.iloc[test], verbose=0)\n",
    "    print(f'Fold {fold_num} - {model.metrics_names[0]}: {scores[0]}; {model.metrics_names[1]}: {scores[1]*100}%')\n",
    "    acc_per_fold.append(scores[1] * 100)\n",
    "    loss_per_fold.append(scores[0])\n",
    "    # Next fold number\n",
    "    fold_num = fold_num + 1"
   ]
  },
  {
   "cell_type": "markdown",
   "id": "cef874c5",
   "metadata": {},
   "source": [
    "## Exercise 3 : Hyperparameter Tuning (30 points)\n",
    "\n",
    "Use either grid search or random search methodology to find the optimal number of nodes required in each hidden layer, as well as the optimal learning rate and the number of epochs, such that the accuracy of the model is maximum for the given data set.\n",
    "\n",
    "__Requirements :__\n",
    "- The set of optimal hyperparameters\n",
    "- The maximum accuracy achieved using this set of optimal hyperparameters\n",
    "\n",
    "__Note :__ Hyperparameter tuning takes a lot of time to execute. Make sure that you choose the appropriate number of each hyperparameter (preferably 3 of each), and that you allocate enough time to execute your code."
   ]
  },
  {
   "cell_type": "code",
   "execution_count": 27,
   "id": "5572c87d",
   "metadata": {
    "scrolled": false
   },
   "outputs": [
    {
     "name": "stderr",
     "output_type": "stream",
     "text": [
      "2022-04-30 17:38:27.191259: E tensorflow/stream_executor/cuda/cuda_driver.cc:271] failed call to cuInit: CUDA_ERROR_NO_DEVICE: no CUDA-capable device is detected\n",
      "2022-04-30 17:38:27.191306: I tensorflow/stream_executor/cuda/cuda_diagnostics.cc:156] kernel driver does not appear to be running on this host (betsyU): /proc/driver/nvidia/version does not exist\n",
      "2022-04-30 17:38:27.191455: E tensorflow/stream_executor/cuda/cuda_driver.cc:271] failed call to cuInit: CUDA_ERROR_NO_DEVICE: no CUDA-capable device is detected\n",
      "2022-04-30 17:38:27.191473: I tensorflow/stream_executor/cuda/cuda_diagnostics.cc:156] kernel driver does not appear to be running on this host (betsyU): /proc/driver/nvidia/version does not exist\n",
      "2022-04-30 17:38:27.191657: I tensorflow/core/platform/cpu_feature_guard.cc:151] This TensorFlow binary is optimized with oneAPI Deep Neural Network Library (oneDNN) to use the following CPU instructions in performance-critical operations:  AVX2 FMA\n",
      "To enable them in other operations, rebuild TensorFlow with the appropriate compiler flags.\n",
      "2022-04-30 17:38:27.191709: I tensorflow/core/platform/cpu_feature_guard.cc:151] This TensorFlow binary is optimized with oneAPI Deep Neural Network Library (oneDNN) to use the following CPU instructions in performance-critical operations:  AVX2 FMA\n",
      "To enable them in other operations, rebuild TensorFlow with the appropriate compiler flags.\n",
      "2022-04-30 17:38:27.193886: E tensorflow/stream_executor/cuda/cuda_driver.cc:271] failed call to cuInit: CUDA_ERROR_NO_DEVICE: no CUDA-capable device is detected\n",
      "2022-04-30 17:38:27.193902: I tensorflow/stream_executor/cuda/cuda_diagnostics.cc:156] kernel driver does not appear to be running on this host (betsyU): /proc/driver/nvidia/version does not exist\n",
      "2022-04-30 17:38:27.194117: I tensorflow/core/platform/cpu_feature_guard.cc:151] This TensorFlow binary is optimized with oneAPI Deep Neural Network Library (oneDNN) to use the following CPU instructions in performance-critical operations:  AVX2 FMA\n",
      "To enable them in other operations, rebuild TensorFlow with the appropriate compiler flags.\n",
      "2022-04-30 17:38:27.237159: E tensorflow/stream_executor/cuda/cuda_driver.cc:271] failed call to cuInit: CUDA_ERROR_NO_DEVICE: no CUDA-capable device is detected\n",
      "2022-04-30 17:38:27.237196: I tensorflow/stream_executor/cuda/cuda_diagnostics.cc:156] kernel driver does not appear to be running on this host (betsyU): /proc/driver/nvidia/version does not exist\n",
      "2022-04-30 17:38:27.237495: I tensorflow/core/platform/cpu_feature_guard.cc:151] This TensorFlow binary is optimized with oneAPI Deep Neural Network Library (oneDNN) to use the following CPU instructions in performance-critical operations:  AVX2 FMA\n",
      "To enable them in other operations, rebuild TensorFlow with the appropriate compiler flags.\n",
      "2022-04-30 17:38:27.272580: E tensorflow/stream_executor/cuda/cuda_driver.cc:271] failed call to cuInit: CUDA_ERROR_NO_DEVICE: no CUDA-capable device is detected\n",
      "2022-04-30 17:38:27.272605: I tensorflow/stream_executor/cuda/cuda_diagnostics.cc:156] kernel driver does not appear to be running on this host (betsyU): /proc/driver/nvidia/version does not exist\n",
      "2022-04-30 17:38:27.272835: I tensorflow/core/platform/cpu_feature_guard.cc:151] This TensorFlow binary is optimized with oneAPI Deep Neural Network Library (oneDNN) to use the following CPU instructions in performance-critical operations:  AVX2 FMA\n",
      "To enable them in other operations, rebuild TensorFlow with the appropriate compiler flags.\n",
      "2022-04-30 17:38:27.281194: E tensorflow/stream_executor/cuda/cuda_driver.cc:271] failed call to cuInit: CUDA_ERROR_NO_DEVICE: no CUDA-capable device is detected\n",
      "2022-04-30 17:38:27.281221: I tensorflow/stream_executor/cuda/cuda_diagnostics.cc:156] kernel driver does not appear to be running on this host (betsyU): /proc/driver/nvidia/version does not exist\n",
      "2022-04-30 17:38:27.281430: I tensorflow/core/platform/cpu_feature_guard.cc:151] This TensorFlow binary is optimized with oneAPI Deep Neural Network Library (oneDNN) to use the following CPU instructions in performance-critical operations:  AVX2 FMA\n",
      "To enable them in other operations, rebuild TensorFlow with the appropriate compiler flags.\n",
      "2022-04-30 17:38:27.330905: E tensorflow/stream_executor/cuda/cuda_driver.cc:271] failed call to cuInit: CUDA_ERROR_NO_DEVICE: no CUDA-capable device is detected\n",
      "2022-04-30 17:38:27.330928: I tensorflow/stream_executor/cuda/cuda_diagnostics.cc:156] kernel driver does not appear to be running on this host (betsyU): /proc/driver/nvidia/version does not exist\n",
      "2022-04-30 17:38:27.331157: I tensorflow/core/platform/cpu_feature_guard.cc:151] This TensorFlow binary is optimized with oneAPI Deep Neural Network Library (oneDNN) to use the following CPU instructions in performance-critical operations:  AVX2 FMA\n",
      "To enable them in other operations, rebuild TensorFlow with the appropriate compiler flags.\n",
      "/home/brad/.local/lib/python3.9/site-packages/sklearn/model_selection/_validation.py:372: FitFailedWarning: \n",
      "243 fits failed out of a total of 243.\n",
      "The score on these train-test partitions for these parameters will be set to nan.\n",
      "If these failures are not expected, you can try to debug them by setting error_score='raise'.\n",
      "\n",
      "Below are more details about the failures:\n",
      "--------------------------------------------------------------------------------\n",
      "243 fits failed with the following error:\n",
      "Traceback (most recent call last):\n",
      "  File \"/home/brad/.local/lib/python3.9/site-packages/sklearn/model_selection/_validation.py\", line 680, in _fit_and_score\n",
      "    estimator.fit(X_train, y_train, **fit_params)\n",
      "  File \"/home/brad/.local/lib/python3.9/site-packages/keras/wrappers/scikit_learn.py\", line 236, in fit\n",
      "    return super(KerasClassifier, self).fit(x, y, **kwargs)\n",
      "  File \"/home/brad/.local/lib/python3.9/site-packages/keras/wrappers/scikit_learn.py\", line 155, in fit\n",
      "    self.model = self.build_fn(**self.filter_sk_params(self.build_fn))\n",
      "  File \"/tmp/ipykernel_4854/316051886.py\", line 29, in createmodel\n",
      "TypeError: __init__() missing 1 required positional argument: 'units'\n",
      "\n",
      "  warnings.warn(some_fits_failed_message, FitFailedWarning)\n",
      "/home/brad/.local/lib/python3.9/site-packages/sklearn/model_selection/_search.py:969: UserWarning: One or more of the test scores are non-finite: [nan nan nan nan nan nan nan nan nan nan nan nan nan nan nan nan nan nan\n",
      " nan nan nan nan nan nan nan nan nan nan nan nan nan nan nan nan nan nan\n",
      " nan nan nan nan nan nan nan nan nan nan nan nan nan nan nan nan nan nan\n",
      " nan nan nan nan nan nan nan nan nan nan nan nan nan nan nan nan nan nan\n",
      " nan nan nan nan nan nan nan nan nan]\n",
      "  warnings.warn(\n"
     ]
    },
    {
     "ename": "TypeError",
     "evalue": "__init__() missing 1 required positional argument: 'units'",
     "output_type": "error",
     "traceback": [
      "\u001b[0;31m---------------------------------------------------------------------------\u001b[0m",
      "\u001b[0;31mTypeError\u001b[0m                                 Traceback (most recent call last)",
      "Input \u001b[0;32mIn [27]\u001b[0m, in \u001b[0;36m<cell line: 48>\u001b[0;34m()\u001b[0m\n\u001b[1;32m     46\u001b[0m model \u001b[38;5;241m=\u001b[39m KerasClassifier(build_fn\u001b[38;5;241m=\u001b[39mcreatemodel, verbose\u001b[38;5;241m=\u001b[39m\u001b[38;5;241m0\u001b[39m)\n\u001b[1;32m     47\u001b[0m grid \u001b[38;5;241m=\u001b[39m GridSearchCV(estimator\u001b[38;5;241m=\u001b[39mmodel, param_grid\u001b[38;5;241m=\u001b[39mparam_grid, n_jobs\u001b[38;5;241m=\u001b[39m\u001b[38;5;241m-\u001b[39m\u001b[38;5;241m1\u001b[39m, cv\u001b[38;5;241m=\u001b[39m\u001b[38;5;241m3\u001b[39m)\n\u001b[0;32m---> 48\u001b[0m grid_result \u001b[38;5;241m=\u001b[39m \u001b[43mgrid\u001b[49m\u001b[38;5;241;43m.\u001b[39;49m\u001b[43mfit\u001b[49m\u001b[43m(\u001b[49m\u001b[43mx\u001b[49m\u001b[43m,\u001b[49m\u001b[43my\u001b[49m\u001b[43m)\u001b[49m\n",
      "File \u001b[0;32m~/.local/lib/python3.9/site-packages/sklearn/model_selection/_search.py:926\u001b[0m, in \u001b[0;36mBaseSearchCV.fit\u001b[0;34m(self, X, y, groups, **fit_params)\u001b[0m\n\u001b[1;32m    924\u001b[0m refit_start_time \u001b[38;5;241m=\u001b[39m time\u001b[38;5;241m.\u001b[39mtime()\n\u001b[1;32m    925\u001b[0m \u001b[38;5;28;01mif\u001b[39;00m y \u001b[38;5;129;01mis\u001b[39;00m \u001b[38;5;129;01mnot\u001b[39;00m \u001b[38;5;28;01mNone\u001b[39;00m:\n\u001b[0;32m--> 926\u001b[0m     \u001b[38;5;28;43mself\u001b[39;49m\u001b[38;5;241;43m.\u001b[39;49m\u001b[43mbest_estimator_\u001b[49m\u001b[38;5;241;43m.\u001b[39;49m\u001b[43mfit\u001b[49m\u001b[43m(\u001b[49m\u001b[43mX\u001b[49m\u001b[43m,\u001b[49m\u001b[43m \u001b[49m\u001b[43my\u001b[49m\u001b[43m,\u001b[49m\u001b[43m \u001b[49m\u001b[38;5;241;43m*\u001b[39;49m\u001b[38;5;241;43m*\u001b[39;49m\u001b[43mfit_params\u001b[49m\u001b[43m)\u001b[49m\n\u001b[1;32m    927\u001b[0m \u001b[38;5;28;01melse\u001b[39;00m:\n\u001b[1;32m    928\u001b[0m     \u001b[38;5;28mself\u001b[39m\u001b[38;5;241m.\u001b[39mbest_estimator_\u001b[38;5;241m.\u001b[39mfit(X, \u001b[38;5;241m*\u001b[39m\u001b[38;5;241m*\u001b[39mfit_params)\n",
      "File \u001b[0;32m~/.local/lib/python3.9/site-packages/keras/wrappers/scikit_learn.py:236\u001b[0m, in \u001b[0;36mKerasClassifier.fit\u001b[0;34m(self, x, y, **kwargs)\u001b[0m\n\u001b[1;32m    234\u001b[0m   \u001b[38;5;28;01mraise\u001b[39;00m \u001b[38;5;167;01mValueError\u001b[39;00m(\u001b[38;5;124m'\u001b[39m\u001b[38;5;124mInvalid shape for y: \u001b[39m\u001b[38;5;124m'\u001b[39m \u001b[38;5;241m+\u001b[39m \u001b[38;5;28mstr\u001b[39m(y\u001b[38;5;241m.\u001b[39mshape))\n\u001b[1;32m    235\u001b[0m \u001b[38;5;28mself\u001b[39m\u001b[38;5;241m.\u001b[39mn_classes_ \u001b[38;5;241m=\u001b[39m \u001b[38;5;28mlen\u001b[39m(\u001b[38;5;28mself\u001b[39m\u001b[38;5;241m.\u001b[39mclasses_)\n\u001b[0;32m--> 236\u001b[0m \u001b[38;5;28;01mreturn\u001b[39;00m \u001b[38;5;28;43msuper\u001b[39;49m\u001b[43m(\u001b[49m\u001b[43mKerasClassifier\u001b[49m\u001b[43m,\u001b[49m\u001b[43m \u001b[49m\u001b[38;5;28;43mself\u001b[39;49m\u001b[43m)\u001b[49m\u001b[38;5;241;43m.\u001b[39;49m\u001b[43mfit\u001b[49m\u001b[43m(\u001b[49m\u001b[43mx\u001b[49m\u001b[43m,\u001b[49m\u001b[43m \u001b[49m\u001b[43my\u001b[49m\u001b[43m,\u001b[49m\u001b[43m \u001b[49m\u001b[38;5;241;43m*\u001b[39;49m\u001b[38;5;241;43m*\u001b[39;49m\u001b[43mkwargs\u001b[49m\u001b[43m)\u001b[49m\n",
      "File \u001b[0;32m~/.local/lib/python3.9/site-packages/keras/wrappers/scikit_learn.py:155\u001b[0m, in \u001b[0;36mBaseWrapper.fit\u001b[0;34m(self, x, y, **kwargs)\u001b[0m\n\u001b[1;32m    152\u001b[0m   \u001b[38;5;28mself\u001b[39m\u001b[38;5;241m.\u001b[39mmodel \u001b[38;5;241m=\u001b[39m \u001b[38;5;28mself\u001b[39m\u001b[38;5;241m.\u001b[39mbuild_fn(\n\u001b[1;32m    153\u001b[0m       \u001b[38;5;241m*\u001b[39m\u001b[38;5;241m*\u001b[39m\u001b[38;5;28mself\u001b[39m\u001b[38;5;241m.\u001b[39mfilter_sk_params(\u001b[38;5;28mself\u001b[39m\u001b[38;5;241m.\u001b[39mbuild_fn\u001b[38;5;241m.\u001b[39m\u001b[38;5;21m__call__\u001b[39m))\n\u001b[1;32m    154\u001b[0m \u001b[38;5;28;01melse\u001b[39;00m:\n\u001b[0;32m--> 155\u001b[0m   \u001b[38;5;28mself\u001b[39m\u001b[38;5;241m.\u001b[39mmodel \u001b[38;5;241m=\u001b[39m \u001b[38;5;28;43mself\u001b[39;49m\u001b[38;5;241;43m.\u001b[39;49m\u001b[43mbuild_fn\u001b[49m\u001b[43m(\u001b[49m\u001b[38;5;241;43m*\u001b[39;49m\u001b[38;5;241;43m*\u001b[39;49m\u001b[38;5;28;43mself\u001b[39;49m\u001b[38;5;241;43m.\u001b[39;49m\u001b[43mfilter_sk_params\u001b[49m\u001b[43m(\u001b[49m\u001b[38;5;28;43mself\u001b[39;49m\u001b[38;5;241;43m.\u001b[39;49m\u001b[43mbuild_fn\u001b[49m\u001b[43m)\u001b[49m\u001b[43m)\u001b[49m\n\u001b[1;32m    157\u001b[0m \u001b[38;5;28;01mif\u001b[39;00m (losses\u001b[38;5;241m.\u001b[39mis_categorical_crossentropy(\u001b[38;5;28mself\u001b[39m\u001b[38;5;241m.\u001b[39mmodel\u001b[38;5;241m.\u001b[39mloss) \u001b[38;5;129;01mand\u001b[39;00m\n\u001b[1;32m    158\u001b[0m     \u001b[38;5;28mlen\u001b[39m(y\u001b[38;5;241m.\u001b[39mshape) \u001b[38;5;241m!=\u001b[39m \u001b[38;5;241m2\u001b[39m):\n\u001b[1;32m    159\u001b[0m   y \u001b[38;5;241m=\u001b[39m to_categorical(y)\n",
      "Input \u001b[0;32mIn [27]\u001b[0m, in \u001b[0;36mcreatemodel\u001b[0;34m(n_layers, first_layer_nodes, second_layer_nodes, learning_rate)\u001b[0m\n\u001b[1;32m     26\u001b[0m model \u001b[38;5;241m=\u001b[39m Sequential()\n\u001b[1;32m     28\u001b[0m \u001b[38;5;66;03m#n_nodes = FindLayerNodesLinear(n_layers, first_layer_nodes, last_layer_nodes)\u001b[39;00m\n\u001b[0;32m---> 29\u001b[0m model\u001b[38;5;241m.\u001b[39madd(\u001b[43mDense\u001b[49m\u001b[43m(\u001b[49m\u001b[43m)\u001b[49m)\n\u001b[1;32m     30\u001b[0m \u001b[38;5;28;01mfor\u001b[39;00m i \u001b[38;5;129;01min\u001b[39;00m \u001b[38;5;28mrange\u001b[39m(\u001b[38;5;241m2\u001b[39m):\n\u001b[1;32m     31\u001b[0m     \u001b[38;5;28;01mif\u001b[39;00m i\u001b[38;5;241m==\u001b[39m\u001b[38;5;241m0\u001b[39m:\n",
      "\u001b[0;31mTypeError\u001b[0m: __init__() missing 1 required positional argument: 'units'"
     ]
    }
   ],
   "source": [
    "import warnings\n",
    "warnings.filterwarnings(\"ignore\", category=DeprecationWarning)\n",
    "import os\n",
    "os.environ['CUDA_VISIBLE_DEVICES'] = \"0\"\n",
    "from sklearn.model_selection import GridSearchCV, RandomizedSearchCV\n",
    "from keras.models import Sequential\n",
    "from keras.layers import Dense, Dropout\n",
    "from keras.wrappers.scikit_learn import KerasClassifier\n",
    "#from keras.optimizers import Adam\n",
    "\n",
    "#shamelessly stolen from:\n",
    "# https://datagraphi.com/blog/post/2019/12/17/\n",
    "#                        how-to-find-the-optimum-number-of-hidden-layers-and-nodes-in-a-neural-network-model\n",
    "'''def FindLayerNodesLinear(n_layers, first_layer_nodes, last_layer_nodes):\n",
    "    layers = []\n",
    "    \n",
    "    nodes_increment = (last_layer_nodes - first_layer_nodes)/ (n_layers-1)\n",
    "    nodes = first_layer_nodes\n",
    "    for i in range(1, n_layers+1):\n",
    "        layers.append(math.ceil(nodes))\n",
    "        nodes = nodes + nodes_increment\n",
    "    \n",
    "    return layers\n",
    "'''\n",
    "def createmodel(n_layers, first_layer_nodes, second_layer_nodes, learning_rate=.1):\n",
    "    model = Sequential()\n",
    "    \n",
    "    #n_nodes = FindLayerNodesLinear(n_layers, first_layer_nodes, last_layer_nodes)\n",
    "    model.add(Dense())\n",
    "    for i in range(2):\n",
    "        if i==0:\n",
    "            model.add(Dense(first_layer_nodes, input_dim=16, activation='sigmoid'))\n",
    "        else:\n",
    "            model.add(Dense(second_layer_nodes, activation='sigmoid'))\n",
    "            \n",
    "    #Finally, the output layer should have a single node in binary classification\n",
    "    model.add(Dense(7, activation='sigmoid'))\n",
    "    model.compile(optimizer=SGD(learning_rate=learning_rate), \n",
    "                  loss='mse', metrics = [\"accuracy\"]) #note: metrics could also be 'mse'\n",
    "    \n",
    "    return model\n",
    "\n",
    "param_grid = dict(n_layers=[2], first_layer_nodes = [16, 12, 8], second_layer_nodes=[16,8,3],\n",
    "                  epochs = [500, 750, 1000], learning_rate= [.15, .3, .45])\n",
    "\n",
    "model = KerasClassifier(build_fn=createmodel, verbose=0)\n",
    "grid = GridSearchCV(estimator=model, param_grid=param_grid, n_jobs=-1, cv=3)\n",
    "grid_result = grid.fit(x,y)\n"
   ]
  },
  {
   "cell_type": "code",
   "execution_count": null,
   "id": "04d46da3",
   "metadata": {
    "scrolled": false
   },
   "outputs": [],
   "source": [
    "print(\"Best: %f using %s\" % (grid_result.best_score_, grid_result.best_params_))\n",
    "means = grid_result.cv_results_['mean_test_score']\n",
    "stds = grid_result.cv_results_['std_test_score']\n",
    "params = grid_result.cv_results_['params']\n",
    "for mean, stdev, param in zip(means, stds, params):\n",
    "    print(\"%f (%f) with: %r\" % (mean, stdev, param))"
   ]
  },
  {
   "cell_type": "code",
   "execution_count": null,
   "id": "0db15b91",
   "metadata": {},
   "outputs": [],
   "source": []
  }
 ],
 "metadata": {
  "kernelspec": {
   "display_name": "Python 3 (ipykernel)",
   "language": "python",
   "name": "python3"
  },
  "language_info": {
   "codemirror_mode": {
    "name": "ipython",
    "version": 3
   },
   "file_extension": ".py",
   "mimetype": "text/x-python",
   "name": "python",
   "nbconvert_exporter": "python",
   "pygments_lexer": "ipython3",
   "version": "3.9.7"
  }
 },
 "nbformat": 4,
 "nbformat_minor": 5
}
