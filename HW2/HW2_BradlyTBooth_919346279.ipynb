{
 "cells": [
  {
   "cell_type": "markdown",
   "id": "0ceeeb46",
   "metadata": {},
   "source": [
    "# Homework 2\n",
    "## Bradly T Booth\n",
    "## 919346279\n",
    "### 20220502\n",
    "For this assignment, you will be developing an artificial neural network to classify data given in the __[Dry Beans Data Set](https://archive.ics.uci.edu/ml/datasets/Dry+Bean+Dataset#)__. This data set was obtained as a part of a research study by Selcuk University, Turkey, in which a computer vision system was developed to distinguish seven different registered varieties of dry beans with similar features. More details on the study can be found in the following __[research paper](https://www.sciencedirect.com/science/article/pii/S0168169919311573)__.\n",
    "\n",
    "## About the Data Set\n",
    "Seven different types of dry beans were used in a study in Selcuk University, Turkey, taking into account the features such as form, shape, type, and structure by the market situation. A computer vision system was developed to distinguish seven different registered varieties of dry beans with similar features in order to obtain uniform seed classification. For the classification model, images of 13611 grains of 7 different registered dry beans were taken with a high-resolution camera. Bean images obtained by computer vision system were subjected to segmentation and feature extraction stages, and a total of 16 features - 12 dimensions and 4 shape forms - were obtained from the grains.\n",
    "\n",
    "Number of Instances (records in the data set): __13611__\n",
    "\n",
    "Number of Attributes (fields within each record, including the class): __17__\n",
    "\n",
    "### Data Set Attribute Information:\n",
    "\n",
    "1. __Area (A)__ : The area of a bean zone and the number of pixels within its boundaries.\n",
    "2. __Perimeter (P)__ : Bean circumference is defined as the length of its border.\n",
    "3. __Major axis length (L)__ : The distance between the ends of the longest line that can be drawn from a bean.\n",
    "4. __Minor axis length (l)__ : The longest line that can be drawn from the bean while standing perpendicular to the main axis.\n",
    "5. __Aspect ratio (K)__ : Defines the relationship between L and l.\n",
    "6. __Eccentricity (Ec)__ : Eccentricity of the ellipse having the same moments as the region.\n",
    "7. __Convex area (C)__ : Number of pixels in the smallest convex polygon that can contain the area of a bean seed.\n",
    "8. __Equivalent diameter (Ed)__ : The diameter of a circle having the same area as a bean seed area.\n",
    "9. __Extent (Ex)__ : The ratio of the pixels in the bounding box to the bean area.\n",
    "10. __Solidity (S)__ : Also known as convexity. The ratio of the pixels in the convex shell to those found in beans.\n",
    "11. __Roundness (R)__ : Calculated with the following formula: (4piA)/(P^2)\n",
    "12. __Compactness (CO)__ : Measures the roundness of an object: Ed/L\n",
    "13. __ShapeFactor1 (SF1)__\n",
    "14. __ShapeFactor2 (SF2)__\n",
    "15. __ShapeFactor3 (SF3)__\n",
    "16. __ShapeFactor4 (SF4)__\n",
    "\n",
    "17. __Classes : *Seker, Barbunya, Bombay, Cali, Dermosan, Horoz, Sira*__"
   ]
  },
  {
   "cell_type": "markdown",
   "id": "61beac74",
   "metadata": {},
   "source": [
    "### Libraries that can be used :\n",
    "- NumPy, SciPy, Pandas, Sci-Kit Learn, TensorFlow, Keras\n",
    "- Any other library used during the lectures and discussion sessions.\n",
    "\n",
    "### Other Notes\n",
    "- Don't worry about not being able to achieve high accuracy, it is neither the goal nor the grading standard of this assignment.\n",
    "- Discussion materials should be helpful for doing the assignments.\n",
    "- The homework submission should be a .ipynb file.\n"
   ]
  },
  {
   "cell_type": "markdown",
   "id": "0264c751",
   "metadata": {},
   "source": [
    "\n",
    "## Exercise 1 : Building a Feed-Forward Neural Network(50 points)\n",
    "\n",
    "### Exercise 1.1 : Data Preprocessing (10 points)\n",
    "\n",
    "- As the classes are categorical, use one-hot encoding to represent the set of classes. You will find this useful when developing the output layer of the neural network.\n",
    "- Normalize each field of the input data using the min-max normalization technique.\n",
    "\n",
    "### Exercise 1.2 : Training and Testing the Neural Network (40 points)\n",
    "\n",
    "Design a 4-layer artificial neural network, specifically a feed-forward multi-layer perceptron (using the sigmoid activation function), to classify the type of 'Dry Bean' given the other attributes in the data set, similar to the one mentioned in the paper above. Please note that this is a multi-class classification problem so select the right number of nodes accordingly for the output layer.\n",
    "\n",
    "For training and testing the model, split the data into training and testing set by __90:10__ and use the training set for training the model and the test set to evaluate the model performance.\n",
    "\n",
    "Consider the following hyperparameters while developing your model :\n",
    "\n",
    "- Number of nodes in each hidden layer should be (12, 3)\n",
    "- Learning rate should be 0.3\n",
    "- Number of epochs should be 500\n",
    "- The sigmoid function should be used as the activation function in each layer\n",
    "- Stochastic Gradient Descent should be used to minimize the error rate\n",
    "\n",
    "__Requirements once the model has been trained :__\n",
    "\n",
    "- A confusion matrix for all classes, specifying the true positive, true negative, false positive, and false negative cases for each category in the class\n",
    "- The accuracy and mean squared error (MSE) of the model\n",
    "- The precision and recall for each label in the class\n",
    "\n",
    "__Notes :__\n",
    "\n",
    "- Splitting of the dataset should be done __after__ the data preprocessing step.\n",
    "- The mean squared error (MSE) values obtained __should be positive__.\n"
   ]
  },
  {
   "cell_type": "markdown",
   "id": "a259a9eb",
   "metadata": {},
   "source": [
    "# Exercise 1.1"
   ]
  },
  {
   "cell_type": "code",
   "execution_count": 2,
   "id": "a4cb5d20",
   "metadata": {},
   "outputs": [
    {
     "name": "stdout",
     "output_type": "stream",
     "text": [
      "       SIRA  DERMANSON  BOMBAY  BARBUNYA  HOROZ  SEKER  CALI\n",
      "0       1.0        0.0     0.0       0.0    0.0    0.0   0.0\n",
      "1       0.0        1.0     0.0       0.0    0.0    0.0   0.0\n",
      "2       0.0        1.0     0.0       0.0    0.0    0.0   0.0\n",
      "3       1.0        0.0     0.0       0.0    0.0    0.0   0.0\n",
      "4       0.0        1.0     0.0       0.0    0.0    0.0   0.0\n",
      "...     ...        ...     ...       ...    ...    ...   ...\n",
      "13606   0.0        1.0     0.0       0.0    0.0    0.0   0.0\n",
      "13607   0.0        0.0     1.0       0.0    0.0    0.0   0.0\n",
      "13608   1.0        0.0     0.0       0.0    0.0    0.0   0.0\n",
      "13609   0.0        0.0     0.0       0.0    1.0    0.0   0.0\n",
      "13610   1.0        0.0     0.0       0.0    0.0    0.0   0.0\n",
      "\n",
      "[13611 rows x 7 columns]\n",
      "\n",
      "(10888, 16) (10888, 7)\n",
      "(2723, 16) (2723, 7)\n"
     ]
    }
   ],
   "source": [
    "import numpy as np\n",
    "import math\n",
    "import pandas as pd\n",
    "from sklearn.model_selection import train_test_split\n",
    "from sklearn.preprocessing import OneHotEncoder\n",
    "#Yay, we did it!!! We started the project...nothing can stop us now!!  Except numpy arrays.  Fuck that!!!!!!!!\n",
    "\n",
    "\n",
    "df = pd.read_csv('./Dry_Beans_Dataset.csv')\n",
    "\n",
    "yTemp = df['Class']\n",
    "x = df.drop('Class', axis=1)\n",
    "\n",
    "x = ((x - x.min().min())/(x.max().max()-x.min().min()))  #Normallizing the data\n",
    "\n",
    "#Decided to implement my own 1 hot encoding scheme\n",
    "data = {\n",
    "    'SIRA':[0,0,0,0,0,0,1],\n",
    "    'DERMANSON':[0,0,0,0,0,1,0],\n",
    "    'BOMBAY':[0,0,0,0,1,0,0],\n",
    "    'BARBUNYA':[0,0,0,1,0,0,0],\n",
    "    'HOROZ':[0,0,1,0,0,0,0],\n",
    "    'SEKER':[0,1,0,0,0,0,0],\n",
    "    'CALI':[1,0,0,0,0,0,0]\n",
    "}\n",
    "dataE = {\n",
    "    'SIRA':[],\n",
    "    'DERMANSON':[],\n",
    "    'BOMBAY':[],\n",
    "    'BARBUNYA':[],\n",
    "    'HOROZ':[],\n",
    "    'SEKER':[],\n",
    "    'CALI':[]\n",
    "}\n",
    "temp = pd.DataFrame(data)\n",
    "y = pd.DataFrame(dataE)\n",
    "\n",
    "for i in yTemp:\n",
    "    if(i == 'SIRA'):\n",
    "        y = pd.concat([y, temp.iloc[[6], :]])\n",
    "    elif(i == 'DERMASON'):\n",
    "        y = pd.concat([y, temp.iloc[[5], :]])\n",
    "    elif(i == 'BOMBAY'):\n",
    "        y = pd.concat([y, temp.iloc[[4], :]])\n",
    "    elif(i == 'BARBUNYA'):\n",
    "        y = pd.concat([y, temp.iloc[[3], :]])\n",
    "    elif(i == 'HOROZ'):\n",
    "        y = pd.concat([y, temp.iloc[[2], :]])\n",
    "    elif(i == 'SEKER'):\n",
    "        y = pd.concat([y, temp.iloc[[1], :]])\n",
    "    elif(i == 'CALI'):\n",
    "        y = pd.concat([y, temp.iloc[[0], :]])\n",
    "y = y.reset_index()\n",
    "y = y.drop('index', axis=1)\n",
    "print(y)\n",
    "\n",
    "xTrain, xTest, yTrain, yTest = train_test_split(x, y, test_size = 0.20, random_state=5)\n",
    "print(\"\")\n",
    "print(xTrain.shape, yTrain.shape)\n",
    "print(xTest.shape, yTest.shape)"
   ]
  },
  {
   "cell_type": "markdown",
   "id": "57715665",
   "metadata": {},
   "source": [
    "# Exercise 1.2"
   ]
  },
  {
   "cell_type": "code",
   "execution_count": 4,
   "id": "6e83b698",
   "metadata": {
    "scrolled": true
   },
   "outputs": [],
   "source": [
    "import math\n",
    "\n",
    "x = xTrain.to_numpy()\n",
    "yT = yTrain.to_numpy()\n",
    "\n",
    "layer1 = np.random.rand(12,16)\n",
    "z1 = np.ones((12,1))\n",
    "layer1Out = np.ones((12,1))\n",
    "\n",
    "layer2 = np.random.rand(3,12)\n",
    "z2 = np.ones((3,1))\n",
    "layer2Out = np.ones((3,1))\n",
    "\n",
    "layer3 = np.random.rand(7,3)\n",
    "z3 = np.ones((7,1))\n",
    "output = np.ones((7,1))\n",
    "\n",
    "for m in range(500):\n",
    "    for n in range(x.shape[0]):\n",
    "        #Forward feed layer 1\n",
    "        for i in range(12):\n",
    "            z1[i] = np.dot(x[n,:], layer1[i,:]) \n",
    "            layer1Out[i] = 1/(1+ math.exp(z1[i]))\n",
    "        \n",
    "        #Forward feed layer 2\n",
    "        for i in range(3):\n",
    "            z2[i] = np.dot(layer1Out.transpose(), layer2[i,:]) \n",
    "            layer2Out[i] = 1/(1+ math.exp(z2[i]))\n",
    "        \n",
    "        #Forward feed output layer\n",
    "        for i in range(7):\n",
    "            z3[i] = np.dot(layer2Out.transpose(), layer3[i,:]) \n",
    "            output[i] = 1/(1+ math.exp(z3[i]))\n",
    "\n",
    "        #Back propagation, output to layer 2\n",
    "        for i in range(3):\n",
    "            for j in range(7):\n",
    "                yTemp = yT[n, :]\n",
    "                layer3[j,i] = layer3[j,i] + .3*output[j]*(1-output[j])*(yTemp[j] - output[j])*layer2Out[i]\n",
    "        \n",
    "        #Back propagation, layer 2 to layer 1\n",
    "        for i in range(12):\n",
    "            for j in range(3):\n",
    "                layer2[j,i] = layer2[j,i] + .3*layer2Out[j]*(1-layer2Out[j])*z2[j]*layer1Out[i]\n",
    "\n",
    "        #Back propagation, layer 1 to input weights\n",
    "        for i in range(16):\n",
    "            for j in range(12):\n",
    "                xTemp = x[n, :]\n",
    "                layer1[j,i] = layer1[j,i] + .3*layer1Out[j]*(1-layer1Out[j])*z1[j]*xTemp[i]\n"
   ]
  },
  {
   "cell_type": "code",
   "execution_count": 5,
   "id": "fcfba6ef",
   "metadata": {},
   "outputs": [
    {
     "name": "stdout",
     "output_type": "stream",
     "text": [
      "[[5.18307403e+01 1.65539395e+00 1.33217486e+00 8.11514097e-01\n",
      "  1.28057659e-01 4.09213459e-02 5.25605018e+01 8.08840395e-01\n",
      "  3.11445694e-01 8.47016657e-01 7.76634207e-01 3.07693244e-01\n",
      "  9.84577577e-01 5.68032187e-01 8.64025360e-01 3.87398350e-01]\n",
      " [5.20707505e+01 1.74406037e+00 6.06594805e-01 2.78319623e-01\n",
      "  2.19269869e-01 1.64903722e-01 5.23283060e+01 1.13949692e+00\n",
      "  6.46582117e-02 3.19943743e-01 3.78352916e-01 8.34565474e-03\n",
      "  8.49150178e-01 1.95223965e-01 9.50733875e-01 4.70575890e-01]\n",
      " [5.17927405e+01 1.52311937e+00 1.36908531e+00 7.31153994e-01\n",
      "  8.38890251e-01 2.80864949e-01 5.26019874e+01 6.97963214e-01\n",
      "  1.51888933e-01 9.22852965e-01 7.64072833e-01 5.82533795e-01\n",
      "  6.20711303e-01 1.82480706e-01 8.60824240e-01 5.46943720e-01]\n",
      " [5.22174604e+01 1.55630092e+00 4.16342695e-01 7.19691837e-01\n",
      "  1.96348250e-01 6.97475346e-01 5.21918514e+01 3.60656241e-01\n",
      "  6.03951118e-01 7.06620824e-01 4.65066842e-01 8.30840579e-01\n",
      "  1.43163270e-01 4.76256139e-01 1.96012894e-01 1.68452269e-01]\n",
      " [5.22423116e+01 1.50211190e+00 1.31951014e+00 2.91583008e-01\n",
      "  3.87217977e-01 9.80027769e-01 5.21582829e+01 1.15539277e+00\n",
      "  2.87127093e-01 1.86067667e-01 8.60482249e-02 1.78459710e-01\n",
      "  7.65600419e-01 7.52100867e-01 8.80046500e-01 9.04376704e-01]\n",
      " [5.19115530e+01 1.07967896e+00 4.76873120e-01 6.80657510e-01\n",
      "  2.36916413e-01 6.98689112e-01 5.25024906e+01 5.64797081e-01\n",
      "  7.91038055e-01 9.62236812e-01 7.02730524e-01 7.01813505e-01\n",
      "  6.82309533e-01 4.27645746e-01 4.54059292e-01 4.30096506e-01]\n",
      " [5.19312894e+01 1.73896346e+00 1.05563051e+00 5.59778408e-01\n",
      "  7.79334619e-01 7.43787853e-01 5.24656622e+01 3.84007095e-01\n",
      "  6.10801388e-01 6.11572658e-01 7.51415011e-01 5.14515740e-01\n",
      "  3.01173430e-01 5.49014749e-02 2.19603497e-01 8.46068592e-01]\n",
      " [5.16605342e+01 1.23859316e+00 8.23029215e-01 7.15044042e-01\n",
      "  3.68039261e-01 8.79867153e-01 5.27430355e+01 7.47622532e-01\n",
      "  7.29786944e-01 5.50808726e-01 6.03490084e-01 8.77845086e-01\n",
      "  5.57588865e-01 4.25016777e-01 5.94041412e-01 3.69378438e-01]\n",
      " [5.16588191e+01 1.77481329e+00 8.28885205e-01 8.35518273e-01\n",
      "  1.69739827e-01 1.86793016e-01 5.27292437e+01 1.21312245e+00\n",
      "  6.22127124e-01 8.35159083e-02 9.41966754e-01 2.47593094e-01\n",
      "  2.79829102e-01 2.59913367e-01 6.37670207e-01 5.69326692e-01]\n",
      " [5.15660915e+01 1.55245617e+00 5.73841284e-01 4.98871429e-01\n",
      "  1.66598932e-01 8.46879321e-02 5.28352914e+01 3.40097237e-01\n",
      "  5.52142472e-01 9.67866913e-01 2.59765972e-01 7.10491078e-01\n",
      "  1.62877873e-01 4.87337567e-01 4.76428622e-01 2.82133453e-01]\n",
      " [5.15802705e+01 1.28660435e+00 1.10042626e+00 6.72029273e-01\n",
      "  7.63539512e-01 3.59980464e-01 5.28189458e+01 7.95354401e-01\n",
      "  3.22942662e-01 1.79641758e-01 7.55409179e-01 1.50801547e-01\n",
      "  4.52710878e-01 4.32115760e-01 5.26652511e-01 6.16260750e-01]\n",
      " [5.21677064e+01 1.31561721e+00 7.73425241e-01 4.88552991e-01\n",
      "  4.37347866e-01 1.24192550e-01 5.22432014e+01 5.86748733e-01\n",
      "  6.98087100e-01 3.52764963e-01 9.11849745e-01 8.80994748e-01\n",
      "  8.30573825e-01 5.64273299e-01 7.63789495e-01 3.92925234e-01]]\n"
     ]
    }
   ],
   "source": [
    "print(layer1)"
   ]
  },
  {
   "cell_type": "markdown",
   "id": "bf29d261",
   "metadata": {},
   "source": [
    "So theoretically, I should be able to feed data points through the layers above.  This would be the prediction.  Then I cross check that with the output?  I don't think I will do that. I wrote the above as an exercise for myself to try to understand better what I am accomplishing.  It took a couple of hours to run.  Below is my neural net using tensorflow."
   ]
  },
  {
   "cell_type": "code",
   "execution_count": 6,
   "id": "4a1f671b",
   "metadata": {},
   "outputs": [],
   "source": [
    "from tensorflow.keras.models import Sequential\n",
    "from tensorflow.keras.layers import Dense\n",
    "from tensorflow.keras.optimizers import SGD \n",
    "\n",
    "model = Sequential(name = 'classifier') #classifier doesn't do anything(I think)...just the name of the model\n",
    "\n",
    "layers = [\n",
    "    Dense(12, activation='sigmoid', name =\"layer1\"),\n",
    "    Dense(3, activation='sigmoid', name =\"layer2\"),\n",
    "    Dense(7, activation='sigmoid')\n",
    "]\n",
    "\n",
    "#Add each layer to the model\n",
    "for layer in layers:\n",
    "    model.add(layer)\n",
    "    \n",
    "model.compile(optimizer=SGD(learning_rate=0.3), loss='mse', metrics=['accuracy'])\n",
    "\n",
    "hist = model.fit(x, y, validation_split=0.2, epochs=500, verbose=0) \n",
    "#Why did we split the model into training and testing data, only to not use it here."
   ]
  },
  {
   "cell_type": "code",
   "execution_count": 7,
   "id": "63dc66f8",
   "metadata": {},
   "outputs": [
    {
     "name": "stdout",
     "output_type": "stream",
     "text": [
      "Training Error: 0.078\n",
      "Training Accuracy: 0.586\n"
     ]
    }
   ],
   "source": [
    "pred_train= model.predict(xTrain)\n",
    "score, acc = model.evaluate(xTrain, yTrain, verbose=0)\n",
    "print('Training Error: %.3f' % score)\n",
    "print('Training Accuracy: %.3f' % acc)"
   ]
  },
  {
   "cell_type": "code",
   "execution_count": 8,
   "id": "ae2edd05",
   "metadata": {},
   "outputs": [
    {
     "name": "stdout",
     "output_type": "stream",
     "text": [
      "Test Error: 0.079\n",
      "Test Accuracy: 0.569\n"
     ]
    }
   ],
   "source": [
    "pred_train= model.predict(xTest)\n",
    "score, acc = model.evaluate(xTest, yTest, verbose=0)\n",
    "print('Test Error: %.3f' % score)\n",
    "print('Test Accuracy: %.3f' % acc)"
   ]
  },
  {
   "cell_type": "code",
   "execution_count": 9,
   "id": "cfaa4995",
   "metadata": {},
   "outputs": [
    {
     "data": {
      "text/plain": [
       "dict_keys(['loss', 'accuracy', 'val_loss', 'val_accuracy'])"
      ]
     },
     "execution_count": 9,
     "metadata": {},
     "output_type": "execute_result"
    }
   ],
   "source": [
    "hist.history.keys()"
   ]
  },
  {
   "cell_type": "code",
   "execution_count": 10,
   "id": "d35cc1ac",
   "metadata": {},
   "outputs": [
    {
     "data": {
      "image/png": "[encoded data removed]",
      "text/plain": [
       "<Figure size 432x288 with 1 Axes>"
      ]
     },
     "metadata": {
      "needs_background": "light"
     },
     "output_type": "display_data"
    }
   ],
   "source": [
    "import matplotlib.pyplot as plt\n",
    "\n",
    "plt.plot(hist.history['loss'])\n",
    "plt.plot(hist.history['val_loss'])\n",
    "plt.title('Model Loss Curve')\n",
    "plt.ylabel('Loss')\n",
    "plt.xlabel('Epoch')\n",
    "plt.legend(['train', 'test'], loc='upper right')\n",
    "plt.show()"
   ]
  },
  {
   "cell_type": "code",
   "execution_count": 11,
   "id": "c122f9b1",
   "metadata": {},
   "outputs": [
    {
     "data": {
      "image/png": "[encoded data removed]",
      "text/plain": [
       "<Figure size 432x288 with 1 Axes>"
      ]
     },
     "metadata": {
      "needs_background": "light"
     },
     "output_type": "display_data"
    }
   ],
   "source": [
    "plt.plot(hist.history['accuracy'])\n",
    "plt.plot(hist.history['val_accuracy'])\n",
    "plt.title('Model Accuracy')\n",
    "plt.ylabel('Accuracy')\n",
    "plt.xlabel('Epochs')\n",
    "plt.legend(['train', 'test'], loc='upper left')\n",
    "plt.show()"
   ]
  },
  {
   "cell_type": "markdown",
   "id": "c235bdff",
   "metadata": {},
   "source": [
    "I feel like the accuracy is pretty low.  I know we were told not that accuracy is not important but I wonder if it has anything to do with my one hot encoding. Let me try using the actual one hot encoding library. brb"
   ]
  },
  {
   "cell_type": "code",
   "execution_count": 12,
   "id": "217f1e7b",
   "metadata": {},
   "outputs": [
    {
     "name": "stdout",
     "output_type": "stream",
     "text": [
      "0            SIRA\n",
      "1        DERMASON\n",
      "2        DERMASON\n",
      "3            SIRA\n",
      "4        DERMASON\n",
      "           ...   \n",
      "13606    DERMASON\n",
      "13607      BOMBAY\n",
      "13608        SIRA\n",
      "13609       HOROZ\n",
      "13610        SIRA\n",
      "Name: Class, Length: 13611, dtype: object\n",
      "       BARBUNYA  BOMBAY  CALI  DERMASON  HOROZ  SEKER  SIRA\n",
      "0             0       0     0         0      0      0     1\n",
      "1             0       0     0         1      0      0     0\n",
      "2             0       0     0         1      0      0     0\n",
      "3             0       0     0         0      0      0     1\n",
      "4             0       0     0         1      0      0     0\n",
      "...         ...     ...   ...       ...    ...    ...   ...\n",
      "13606         0       0     0         1      0      0     0\n",
      "13607         0       1     0         0      0      0     0\n",
      "13608         0       0     0         0      0      0     1\n",
      "13609         0       0     0         0      1      0     0\n",
      "13610         0       0     0         0      0      0     1\n",
      "\n",
      "[13611 rows x 7 columns]\n"
     ]
    }
   ],
   "source": [
    "from sklearn.preprocessing import OneHotEncoder\n",
    "df = pd.read_csv('./Dry_Beans_Dataset.csv')\n",
    "\n",
    "yTemp = df['Class']\n",
    "x = df.drop('Class', axis=1)\n",
    "\n",
    "x = ((x - x.min().min())/(x.max().max()-x.min().min()))  #Normallizing the data\n",
    "\n",
    "print(yTemp)\n",
    "y = pd.get_dummies(data = yTemp, columns=['class'])\n",
    "print(y)"
   ]
  },
  {
   "cell_type": "code",
   "execution_count": 13,
   "id": "e46d3128",
   "metadata": {},
   "outputs": [],
   "source": [
    "from tensorflow.keras.models import Sequential\n",
    "from tensorflow.keras.layers import Dense\n",
    "from tensorflow.keras.optimizers import SGD \n",
    "\n",
    "model = Sequential(name = 'classifier') #classifier doesn't do anything(I think)...just the name of the model\n",
    "\n",
    "layers = [\n",
    "    Dense(12, activation='sigmoid', name =\"layer1\"),\n",
    "    Dense(3, activation='sigmoid', name =\"layer2\"),\n",
    "    Dense(7, activation='sigmoid')\n",
    "]\n",
    "\n",
    "#Add each layer to the model\n",
    "for layer in layers:\n",
    "    model.add(layer)\n",
    "    \n",
    "model.compile(optimizer=SGD(learning_rate=0.3), loss='mse', metrics=['accuracy'])\n",
    "\n",
    "hist = model.fit(x, y, validation_split=0.2, epochs=500, verbose=0)"
   ]
  },
  {
   "cell_type": "code",
   "execution_count": 14,
   "id": "dd11866a",
   "metadata": {},
   "outputs": [
    {
     "name": "stdout",
     "output_type": "stream",
     "text": [
      "\n",
      "(10888, 16) (10888, 7)\n",
      "(2723, 16) (2723, 7)\n"
     ]
    }
   ],
   "source": [
    "xTrain, xTest, yTrain, yTest = train_test_split(x, y, test_size = 0.20, random_state=5)\n",
    "print(\"\")\n",
    "print(xTrain.shape, yTrain.shape)\n",
    "print(xTest.shape, yTest.shape)"
   ]
  },
  {
   "cell_type": "code",
   "execution_count": 15,
   "id": "f6221605",
   "metadata": {},
   "outputs": [
    {
     "name": "stdout",
     "output_type": "stream",
     "text": [
      "Training Error: 0.071\n",
      "Training Accuracy: 0.623\n"
     ]
    }
   ],
   "source": [
    "pred_train= model.predict(xTrain)\n",
    "score, acc = model.evaluate(xTrain, yTrain, verbose=0)\n",
    "print('Training Error: %.3f' % score)\n",
    "print('Training Accuracy: %.3f' % acc)"
   ]
  },
  {
   "cell_type": "code",
   "execution_count": 16,
   "id": "3b170b6e",
   "metadata": {},
   "outputs": [
    {
     "name": "stdout",
     "output_type": "stream",
     "text": [
      "Test Error: 0.072\n",
      "Test Accuracy: 0.612\n"
     ]
    }
   ],
   "source": [
    "pred_train= model.predict(xTest)\n",
    "score, acc = model.evaluate(xTest, yTest, verbose=0)\n",
    "print('Test Error: %.3f' % score)\n",
    "print('Test Accuracy: %.3f' % acc)"
   ]
  },
  {
   "cell_type": "code",
   "execution_count": 17,
   "id": "fb4f1d21",
   "metadata": {},
   "outputs": [
    {
     "data": {
      "image/png": "[encoded data removed]",
      "text/plain": [
       "<Figure size 432x288 with 1 Axes>"
      ]
     },
     "metadata": {
      "needs_background": "light"
     },
     "output_type": "display_data"
    }
   ],
   "source": [
    "import matplotlib.pyplot as plt\n",
    "\n",
    "plt.plot(hist.history['loss'])\n",
    "plt.plot(hist.history['val_loss'])\n",
    "plt.title('Model Loss Curve')\n",
    "plt.ylabel('Loss')\n",
    "plt.xlabel('Epoch')\n",
    "plt.legend(['train', 'test'], loc='upper right')\n",
    "plt.show()"
   ]
  },
  {
   "cell_type": "code",
   "execution_count": 18,
   "id": "f2425ea8",
   "metadata": {},
   "outputs": [
    {
     "data": {
      "image/png": "[encoded data removed]",
      "text/plain": [
       "<Figure size 432x288 with 1 Axes>"
      ]
     },
     "metadata": {
      "needs_background": "light"
     },
     "output_type": "display_data"
    }
   ],
   "source": [
    "plt.plot(hist.history['accuracy'])\n",
    "plt.plot(hist.history['val_accuracy'])\n",
    "plt.title('Model Accuracy')\n",
    "plt.ylabel('Accuracy')\n",
    "plt.xlabel('Epochs')\n",
    "plt.legend(['train', 'test'], loc='upper left')\n",
    "plt.show()"
   ]
  },
  {
   "cell_type": "markdown",
   "id": "1ff2b3ca",
   "metadata": {},
   "source": [
    "Ok, so accuracy wasn't really affected.  So I have no idea how to improve this, or if it can be improved.  Honestly, not even sure if I have done anything right.  "
   ]
  },
  {
   "cell_type": "code",
   "execution_count": 19,
   "id": "fca09fda",
   "metadata": {
    "scrolled": false
   },
   "outputs": [
    {
     "name": "stdout",
     "output_type": "stream",
     "text": [
      "       BARBUNYA  BOMBAY  CALI  DERMASON  HOROZ  SEKER  SIRA\n",
      "2021          0       0     0         1      0      0     0\n",
      "7444          0       0     0         0      0      0     1\n",
      "578           0       0     0         0      0      0     1\n",
      "9324          1       0     0         0      0      0     0\n",
      "13044         0       0     0         1      0      0     0\n",
      "...         ...     ...   ...       ...    ...    ...   ...\n",
      "8075          0       0     0         0      0      0     1\n",
      "6756          0       0     1         0      0      0     0\n",
      "2637          1       0     0         0      0      0     0\n",
      "12997         0       0     0         1      0      0     0\n",
      "12505         0       0     0         0      1      0     0\n",
      "\n",
      "[2723 rows x 7 columns]\n",
      "[[1.4255941e-03 5.2027826e-06 3.6759742e-05 ... 2.9160380e-03\n",
      "  2.1871877e-01 1.1332947e-01]\n",
      " [1.1062264e-02 1.9864769e-05 5.7187676e-04 ... 6.7653209e-02\n",
      "  2.4265951e-01 3.9743072e-01]\n",
      " [1.7793089e-02 2.8263808e-05 1.1095107e-03 ... 1.2852871e-01\n",
      "  2.4374980e-01 4.7586864e-01]\n",
      " ...\n",
      " [3.3973557e-01 1.8242210e-02 4.7970665e-01 ... 2.0230302e-01\n",
      "  2.3213029e-02 1.0689557e-02]\n",
      " [3.0615926e-03 8.4133735e-06 1.0111693e-04 ... 9.7564757e-03\n",
      "  2.2950789e-01 1.9516793e-01]\n",
      " [7.9988271e-02 1.4403462e-04 1.2257099e-02 ... 4.6604592e-01\n",
      "  1.9294512e-01 5.3541523e-01]]\n",
      "tf.Tensor(\n",
      "[[  0   0 200   0  41   0  11]\n",
      " [  0 114   0   0   0   0   0]\n",
      " [  0   1 287   0  19   0   2]\n",
      " [  0   0   0 630   0   0  75]\n",
      " [  0   0  47   8 201   0 134]\n",
      " [  0   0   0 175  16   0 242]\n",
      " [  0   0   0  45  40   0 435]], shape=(7, 7), dtype=int32)\n"
     ]
    },
    {
     "data": {
      "text/plain": [
       "<sklearn.metrics._plot.confusion_matrix.ConfusionMatrixDisplay at 0x7f9bb83e7a00>"
      ]
     },
     "execution_count": 19,
     "metadata": {},
     "output_type": "execute_result"
    },
    {
     "data": {
      "image/png": "[encoded data removed]",
      "text/plain": [
       "<Figure size 432x288 with 2 Axes>"
      ]
     },
     "metadata": {
      "needs_background": "light"
     },
     "output_type": "display_data"
    }
   ],
   "source": [
    "from sklearn.metrics import multilabel_confusion_matrix\n",
    "from sklearn.metrics import ConfusionMatrixDisplay\n",
    "from tensorflow.math import confusion_matrix\n",
    "print(yTest)\n",
    "print(pred_train)\n",
    "\n",
    "y_test_arg=np.argmax(yTest.to_numpy(), axis=1)\n",
    "Y_pred = np.argmax(pred_train,axis=1)\n",
    "soConfused = multilabel_confusion_matrix(y_test_arg, Y_pred)\n",
    "print(confusion_matrix(y_test_arg, Y_pred))\n",
    "ConfusionMatrixDisplay.from_predictions(y_test_arg,Y_pred)\n",
    "\n",
    "#multilabel_confusion_matrix(yTest, pred_train)"
   ]
  },
  {
   "cell_type": "markdown",
   "id": "083f5188",
   "metadata": {},
   "source": [
    "## Exercise 2 : k-fold Cross Validation (20 points)\n",
    "\n",
    "In order to avoid using biased models, use 10-fold cross validation to generalize the model based on the given data set.\n",
    "\n",
    "__Requirements :__\n",
    "- The accuracy and MSE values during each iteration of the cross validation\n",
    "- The overall average accuracy and MSE value\n",
    "\n",
    "__Note :__ The mean squared error (MSE) values obtained should be positive."
   ]
  },
  {
   "cell_type": "code",
   "execution_count": 20,
   "id": "76bc736e",
   "metadata": {
    "scrolled": false
   },
   "outputs": [
    {
     "name": "stdout",
     "output_type": "stream",
     "text": [
      "Fold 1 - loss: 0.06858130544424057; accuracy: 63.72981071472168%\n",
      "Fold 2 - loss: 0.06835983693599701; accuracy: 62.89492845535278%\n",
      "Fold 3 - loss: 0.06909842044115067; accuracy: 61.49889826774597%\n",
      "Fold 4 - loss: 0.0687844529747963; accuracy: 63.335782289505005%\n",
      "Fold 5 - loss: 0.06634188443422318; accuracy: 64.29096460342407%\n",
      "Fold 6 - loss: 0.06818146258592606; accuracy: 62.52755522727966%\n",
      "Fold 7 - loss: 0.06727416068315506; accuracy: 61.719322204589844%\n",
      "Fold 8 - loss: 0.06871640682220459; accuracy: 63.7031614780426%\n",
      "Fold 9 - loss: 0.06633079797029495; accuracy: 64.29096460342407%\n",
      "Fold 10 - loss: 0.0687650740146637; accuracy: 63.48273158073425%\n"
     ]
    }
   ],
   "source": [
    "from sklearn.model_selection import KFold\n",
    "\n",
    "acc_per_fold = []\n",
    "loss_per_fold = []\n",
    "fold_num = 1\n",
    "\n",
    "kfold = KFold(n_splits=10, shuffle=True)\n",
    "\n",
    "for train, test in kfold.split(x, y):\n",
    "    # Train on different folds\n",
    "    #model = create_model()\n",
    "    hist = model.fit(x.iloc[train], y.iloc[train], epochs=500, verbose=0)\n",
    "    scores = model.evaluate(x.iloc[test], y.iloc[test], verbose=0)\n",
    "    print(f'Fold {fold_num} - {model.metrics_names[0]}: {scores[0]}; {model.metrics_names[1]}: {scores[1]*100}%')\n",
    "    acc_per_fold.append(scores[1] * 100)\n",
    "    loss_per_fold.append(scores[0])\n",
    "    # Next fold number\n",
    "    fold_num = fold_num + 1"
   ]
  },
  {
   "cell_type": "markdown",
   "id": "cef874c5",
   "metadata": {},
   "source": [
    "## Exercise 3 : Hyperparameter Tuning (30 points)\n",
    "\n",
    "Use either grid search or random search methodology to find the optimal number of nodes required in each hidden layer, as well as the optimal learning rate and the number of epochs, such that the accuracy of the model is maximum for the given data set.\n",
    "\n",
    "__Requirements :__\n",
    "- The set of optimal hyperparameters\n",
    "- The maximum accuracy achieved using this set of optimal hyperparameters\n",
    "\n",
    "__Note :__ Hyperparameter tuning takes a lot of time to execute. Make sure that you choose the appropriate number of each hyperparameter (preferably 3 of each), and that you allocate enough time to execute your code."
   ]
  },
  {
   "cell_type": "code",
   "execution_count": 21,
   "id": "5572c87d",
   "metadata": {
    "scrolled": true
   },
   "outputs": [
    {
     "name": "stderr",
     "output_type": "stream",
     "text": [
      "2022-05-02 19:24:47.235884: I tensorflow/stream_executor/cuda/cuda_gpu_executor.cc:936] successful NUMA node read from SysFS had negative value (-1), but there must be at least one NUMA node, so returning NUMA node zero\n",
      "2022-05-02 19:24:47.240078: I tensorflow/stream_executor/cuda/cuda_gpu_executor.cc:936] successful NUMA node read from SysFS had negative value (-1), but there must be at least one NUMA node, so returning NUMA node zero\n",
      "2022-05-02 19:24:47.241962: W tensorflow/stream_executor/platform/default/dso_loader.cc:64] Could not load dynamic library 'libcudnn.so.8'; dlerror: libcudnn.so.8: cannot open shared object file: No such file or directory\n",
      "2022-05-02 19:24:47.241986: W tensorflow/core/common_runtime/gpu/gpu_device.cc:1850] Cannot dlopen some GPU libraries. Please make sure the missing libraries mentioned above are installed properly if you would like to use GPU. Follow the guide at https://www.tensorflow.org/install/gpu for how to download and setup the required libraries for your platform.\n",
      "Skipping registering GPU devices...\n",
      "2022-05-02 19:24:47.242297: I tensorflow/core/platform/cpu_feature_guard.cc:151] This TensorFlow binary is optimized with oneAPI Deep Neural Network Library (oneDNN) to use the following CPU instructions in performance-critical operations:  AVX2 FMA\n",
      "To enable them in other operations, rebuild TensorFlow with the appropriate compiler flags.\n",
      "2022-05-02 19:24:47.245991: W tensorflow/stream_executor/platform/default/dso_loader.cc:64] Could not load dynamic library 'libcudnn.so.8'; dlerror: libcudnn.so.8: cannot open shared object file: No such file or directory\n",
      "2022-05-02 19:24:47.246936: W tensorflow/core/common_runtime/gpu/gpu_device.cc:1850] Cannot dlopen some GPU libraries. Please make sure the missing libraries mentioned above are installed properly if you would like to use GPU. Follow the guide at https://www.tensorflow.org/install/gpu for how to download and setup the required libraries for your platform.\n",
      "Skipping registering GPU devices...\n",
      "2022-05-02 19:24:47.247238: I tensorflow/core/platform/cpu_feature_guard.cc:151] This TensorFlow binary is optimized with oneAPI Deep Neural Network Library (oneDNN) to use the following CPU instructions in performance-critical operations:  AVX2 FMA\n",
      "To enable them in other operations, rebuild TensorFlow with the appropriate compiler flags.\n",
      "2022-05-02 19:24:47.249626: I tensorflow/stream_executor/cuda/cuda_gpu_executor.cc:936] successful NUMA node read from SysFS had negative value (-1), but there must be at least one NUMA node, so returning NUMA node zero\n",
      "2022-05-02 19:24:47.256088: W tensorflow/stream_executor/platform/default/dso_loader.cc:64] Could not load dynamic library 'libcudnn.so.8'; dlerror: libcudnn.so.8: cannot open shared object file: No such file or directory\n",
      "2022-05-02 19:24:47.256269: W tensorflow/core/common_runtime/gpu/gpu_device.cc:1850] Cannot dlopen some GPU libraries. Please make sure the missing libraries mentioned above are installed properly if you would like to use GPU. Follow the guide at https://www.tensorflow.org/install/gpu for how to download and setup the required libraries for your platform.\n",
      "Skipping registering GPU devices...\n",
      "2022-05-02 19:24:47.256623: I tensorflow/core/platform/cpu_feature_guard.cc:151] This TensorFlow binary is optimized with oneAPI Deep Neural Network Library (oneDNN) to use the following CPU instructions in performance-critical operations:  AVX2 FMA\n",
      "To enable them in other operations, rebuild TensorFlow with the appropriate compiler flags.\n",
      "2022-05-02 19:24:47.260587: I tensorflow/stream_executor/cuda/cuda_gpu_executor.cc:936] successful NUMA node read from SysFS had negative value (-1), but there must be at least one NUMA node, so returning NUMA node zero\n",
      "2022-05-02 19:24:47.267146: W tensorflow/stream_executor/platform/default/dso_loader.cc:64] Could not load dynamic library 'libcudnn.so.8'; dlerror: libcudnn.so.8: cannot open shared object file: No such file or directory\n",
      "2022-05-02 19:24:47.267181: W tensorflow/core/common_runtime/gpu/gpu_device.cc:1850] Cannot dlopen some GPU libraries. Please make sure the missing libraries mentioned above are installed properly if you would like to use GPU. Follow the guide at https://www.tensorflow.org/install/gpu for how to download and setup the required libraries for your platform.\n",
      "Skipping registering GPU devices...\n",
      "2022-05-02 19:24:47.269045: I tensorflow/stream_executor/cuda/cuda_gpu_executor.cc:936] successful NUMA node read from SysFS had negative value (-1), but there must be at least one NUMA node, so returning NUMA node zero\n",
      "2022-05-02 19:24:47.271019: I tensorflow/core/platform/cpu_feature_guard.cc:151] This TensorFlow binary is optimized with oneAPI Deep Neural Network Library (oneDNN) to use the following CPU instructions in performance-critical operations:  AVX2 FMA\n",
      "To enable them in other operations, rebuild TensorFlow with the appropriate compiler flags.\n",
      "2022-05-02 19:24:47.273797: I tensorflow/stream_executor/cuda/cuda_gpu_executor.cc:936] successful NUMA node read from SysFS had negative value (-1), but there must be at least one NUMA node, so returning NUMA node zero\n",
      "2022-05-02 19:24:47.275782: W tensorflow/stream_executor/platform/default/dso_loader.cc:64] Could not load dynamic library 'libcudnn.so.8'; dlerror: libcudnn.so.8: cannot open shared object file: No such file or directory\n",
      "2022-05-02 19:24:47.275869: W tensorflow/core/common_runtime/gpu/gpu_device.cc:1850] Cannot dlopen some GPU libraries. Please make sure the missing libraries mentioned above are installed properly if you would like to use GPU. Follow the guide at https://www.tensorflow.org/install/gpu for how to download and setup the required libraries for your platform.\n",
      "Skipping registering GPU devices...\n",
      "2022-05-02 19:24:47.276224: I tensorflow/core/platform/cpu_feature_guard.cc:151] This TensorFlow binary is optimized with oneAPI Deep Neural Network Library (oneDNN) to use the following CPU instructions in performance-critical operations:  AVX2 FMA\n",
      "To enable them in other operations, rebuild TensorFlow with the appropriate compiler flags.\n",
      "2022-05-02 19:24:47.280984: W tensorflow/stream_executor/platform/default/dso_loader.cc:64] Could not load dynamic library 'libcudnn.so.8'; dlerror: libcudnn.so.8: cannot open shared object file: No such file or directory\n",
      "2022-05-02 19:24:47.281123: W tensorflow/core/common_runtime/gpu/gpu_device.cc:1850] Cannot dlopen some GPU libraries. Please make sure the missing libraries mentioned above are installed properly if you would like to use GPU. Follow the guide at https://www.tensorflow.org/install/gpu for how to download and setup the required libraries for your platform.\n",
      "Skipping registering GPU devices...\n",
      "2022-05-02 19:24:47.281568: I tensorflow/core/platform/cpu_feature_guard.cc:151] This TensorFlow binary is optimized with oneAPI Deep Neural Network Library (oneDNN) to use the following CPU instructions in performance-critical operations:  AVX2 FMA\n",
      "To enable them in other operations, rebuild TensorFlow with the appropriate compiler flags.\n",
      "2022-05-02 19:24:47.335859: I tensorflow/stream_executor/cuda/cuda_gpu_executor.cc:936] successful NUMA node read from SysFS had negative value (-1), but there must be at least one NUMA node, so returning NUMA node zero\n",
      "2022-05-02 19:24:47.342942: W tensorflow/stream_executor/platform/default/dso_loader.cc:64] Could not load dynamic library 'libcudnn.so.8'; dlerror: libcudnn.so.8: cannot open shared object file: No such file or directory\n",
      "2022-05-02 19:24:47.343066: W tensorflow/core/common_runtime/gpu/gpu_device.cc:1850] Cannot dlopen some GPU libraries. Please make sure the missing libraries mentioned above are installed properly if you would like to use GPU. Follow the guide at https://www.tensorflow.org/install/gpu for how to download and setup the required libraries for your platform.\n",
      "Skipping registering GPU devices...\n",
      "2022-05-02 19:24:47.343462: I tensorflow/core/platform/cpu_feature_guard.cc:151] This TensorFlow binary is optimized with oneAPI Deep Neural Network Library (oneDNN) to use the following CPU instructions in performance-critical operations:  AVX2 FMA\n",
      "To enable them in other operations, rebuild TensorFlow with the appropriate compiler flags.\n",
      "2022-05-02 19:24:47.343679: I tensorflow/stream_executor/cuda/cuda_gpu_executor.cc:936] successful NUMA node read from SysFS had negative value (-1), but there must be at least one NUMA node, so returning NUMA node zero\n",
      "2022-05-02 19:24:47.343881: I tensorflow/stream_executor/cuda/cuda_gpu_executor.cc:936] successful NUMA node read from SysFS had negative value (-1), but there must be at least one NUMA node, so returning NUMA node zero\n",
      "2022-05-02 19:24:47.343994: I tensorflow/stream_executor/cuda/cuda_gpu_executor.cc:936] successful NUMA node read from SysFS had negative value (-1), but there must be at least one NUMA node, so returning NUMA node zero\n",
      "2022-05-02 19:24:47.349245: I tensorflow/stream_executor/cuda/cuda_gpu_executor.cc:936] successful NUMA node read from SysFS had negative value (-1), but there must be at least one NUMA node, so returning NUMA node zero\n",
      "2022-05-02 19:24:47.352108: W tensorflow/stream_executor/platform/default/dso_loader.cc:64] Could not load dynamic library 'libcudnn.so.8'; dlerror: libcudnn.so.8: cannot open shared object file: No such file or directory\n",
      "2022-05-02 19:24:47.352140: W tensorflow/core/common_runtime/gpu/gpu_device.cc:1850] Cannot dlopen some GPU libraries. Please make sure the missing libraries mentioned above are installed properly if you would like to use GPU. Follow the guide at https://www.tensorflow.org/install/gpu for how to download and setup the required libraries for your platform.\n",
      "Skipping registering GPU devices...\n",
      "2022-05-02 19:24:47.352516: W tensorflow/stream_executor/platform/default/dso_loader.cc:64] Could not load dynamic library 'libcudnn.so.8'; dlerror: libcudnn.so.8: cannot open shared object file: No such file or directory\n",
      "2022-05-02 19:24:47.352537: W tensorflow/core/common_runtime/gpu/gpu_device.cc:1850] Cannot dlopen some GPU libraries. Please make sure the missing libraries mentioned above are installed properly if you would like to use GPU. Follow the guide at https://www.tensorflow.org/install/gpu for how to download and setup the required libraries for your platform.\n",
      "Skipping registering GPU devices...\n",
      "2022-05-02 19:24:47.352580: I tensorflow/core/platform/cpu_feature_guard.cc:151] This TensorFlow binary is optimized with oneAPI Deep Neural Network Library (oneDNN) to use the following CPU instructions in performance-critical operations:  AVX2 FMA\n",
      "To enable them in other operations, rebuild TensorFlow with the appropriate compiler flags.\n",
      "2022-05-02 19:24:47.352826: I tensorflow/core/platform/cpu_feature_guard.cc:151] This TensorFlow binary is optimized with oneAPI Deep Neural Network Library (oneDNN) to use the following CPU instructions in performance-critical operations:  AVX2 FMA\n",
      "To enable them in other operations, rebuild TensorFlow with the appropriate compiler flags.\n",
      "2022-05-02 19:24:47.355623: W tensorflow/stream_executor/platform/default/dso_loader.cc:64] Could not load dynamic library 'libcudnn.so.8'; dlerror: libcudnn.so.8: cannot open shared object file: No such file or directory\n",
      "2022-05-02 19:24:47.355630: W tensorflow/stream_executor/platform/default/dso_loader.cc:64] Could not load dynamic library 'libcudnn.so.8'; dlerror: libcudnn.so.8: cannot open shared object file: No such file or directory\n",
      "2022-05-02 19:24:47.355647: W tensorflow/core/common_runtime/gpu/gpu_device.cc:1850] Cannot dlopen some GPU libraries. Please make sure the missing libraries mentioned above are installed properly if you would like to use GPU. Follow the guide at https://www.tensorflow.org/install/gpu for how to download and setup the required libraries for your platform.\n",
      "Skipping registering GPU devices...\n",
      "2022-05-02 19:24:47.355717: W tensorflow/core/common_runtime/gpu/gpu_device.cc:1850] Cannot dlopen some GPU libraries. Please make sure the missing libraries mentioned above are installed properly if you would like to use GPU. Follow the guide at https://www.tensorflow.org/install/gpu for how to download and setup the required libraries for your platform.\n",
      "Skipping registering GPU devices...\n",
      "2022-05-02 19:24:47.355959: I tensorflow/core/platform/cpu_feature_guard.cc:151] This TensorFlow binary is optimized with oneAPI Deep Neural Network Library (oneDNN) to use the following CPU instructions in performance-critical operations:  AVX2 FMA\n",
      "To enable them in other operations, rebuild TensorFlow with the appropriate compiler flags.\n",
      "2022-05-02 19:24:47.356008: I tensorflow/core/platform/cpu_feature_guard.cc:151] This TensorFlow binary is optimized with oneAPI Deep Neural Network Library (oneDNN) to use the following CPU instructions in performance-critical operations:  AVX2 FMA\n",
      "To enable them in other operations, rebuild TensorFlow with the appropriate compiler flags.\n",
      "2022-05-02 19:24:47.381298: I tensorflow/stream_executor/cuda/cuda_gpu_executor.cc:936] successful NUMA node read from SysFS had negative value (-1), but there must be at least one NUMA node, so returning NUMA node zero\n",
      "2022-05-02 19:24:47.387859: W tensorflow/stream_executor/platform/default/dso_loader.cc:64] Could not load dynamic library 'libcudnn.so.8'; dlerror: libcudnn.so.8: cannot open shared object file: No such file or directory\n",
      "2022-05-02 19:24:47.387958: W tensorflow/core/common_runtime/gpu/gpu_device.cc:1850] Cannot dlopen some GPU libraries. Please make sure the missing libraries mentioned above are installed properly if you would like to use GPU. Follow the guide at https://www.tensorflow.org/install/gpu for how to download and setup the required libraries for your platform.\n",
      "Skipping registering GPU devices...\n",
      "2022-05-02 19:24:47.388344: I tensorflow/core/platform/cpu_feature_guard.cc:151] This TensorFlow binary is optimized with oneAPI Deep Neural Network Library (oneDNN) to use the following CPU instructions in performance-critical operations:  AVX2 FMA\n",
      "To enable them in other operations, rebuild TensorFlow with the appropriate compiler flags.\n",
      "2022-05-02 19:24:47.416837: I tensorflow/stream_executor/cuda/cuda_gpu_executor.cc:936] successful NUMA node read from SysFS had negative value (-1), but there must be at least one NUMA node, so returning NUMA node zero\n",
      "2022-05-02 19:24:47.423921: W tensorflow/stream_executor/platform/default/dso_loader.cc:64] Could not load dynamic library 'libcudnn.so.8'; dlerror: libcudnn.so.8: cannot open shared object file: No such file or directory\n",
      "2022-05-02 19:24:47.424040: W tensorflow/core/common_runtime/gpu/gpu_device.cc:1850] Cannot dlopen some GPU libraries. Please make sure the missing libraries mentioned above are installed properly if you would like to use GPU. Follow the guide at https://www.tensorflow.org/install/gpu for how to download and setup the required libraries for your platform.\n",
      "Skipping registering GPU devices...\n",
      "2022-05-02 19:24:47.424431: I tensorflow/core/platform/cpu_feature_guard.cc:151] This TensorFlow binary is optimized with oneAPI Deep Neural Network Library (oneDNN) to use the following CPU instructions in performance-critical operations:  AVX2 FMA\n",
      "To enable them in other operations, rebuild TensorFlow with the appropriate compiler flags.\n"
     ]
    },
    {
     "name": "stderr",
     "output_type": "stream",
     "text": [
      "2022-05-02 19:24:47.479096: I tensorflow/stream_executor/cuda/cuda_gpu_executor.cc:936] successful NUMA node read from SysFS had negative value (-1), but there must be at least one NUMA node, so returning NUMA node zero\n",
      "2022-05-02 19:24:47.486159: W tensorflow/stream_executor/platform/default/dso_loader.cc:64] Could not load dynamic library 'libcudnn.so.8'; dlerror: libcudnn.so.8: cannot open shared object file: No such file or directory\n",
      "2022-05-02 19:24:47.486274: W tensorflow/core/common_runtime/gpu/gpu_device.cc:1850] Cannot dlopen some GPU libraries. Please make sure the missing libraries mentioned above are installed properly if you would like to use GPU. Follow the guide at https://www.tensorflow.org/install/gpu for how to download and setup the required libraries for your platform.\n",
      "Skipping registering GPU devices...\n",
      "2022-05-02 19:24:47.486562: I tensorflow/core/platform/cpu_feature_guard.cc:151] This TensorFlow binary is optimized with oneAPI Deep Neural Network Library (oneDNN) to use the following CPU instructions in performance-critical operations:  AVX2 FMA\n",
      "To enable them in other operations, rebuild TensorFlow with the appropriate compiler flags.\n",
      "2022-05-02 19:24:47.516422: I tensorflow/stream_executor/cuda/cuda_gpu_executor.cc:936] successful NUMA node read from SysFS had negative value (-1), but there must be at least one NUMA node, so returning NUMA node zero\n",
      "2022-05-02 19:24:47.522637: W tensorflow/stream_executor/platform/default/dso_loader.cc:64] Could not load dynamic library 'libcudnn.so.8'; dlerror: libcudnn.so.8: cannot open shared object file: No such file or directory\n",
      "2022-05-02 19:24:47.522740: W tensorflow/core/common_runtime/gpu/gpu_device.cc:1850] Cannot dlopen some GPU libraries. Please make sure the missing libraries mentioned above are installed properly if you would like to use GPU. Follow the guide at https://www.tensorflow.org/install/gpu for how to download and setup the required libraries for your platform.\n",
      "Skipping registering GPU devices...\n",
      "2022-05-02 19:24:47.523030: I tensorflow/core/platform/cpu_feature_guard.cc:151] This TensorFlow binary is optimized with oneAPI Deep Neural Network Library (oneDNN) to use the following CPU instructions in performance-critical operations:  AVX2 FMA\n",
      "To enable them in other operations, rebuild TensorFlow with the appropriate compiler flags.\n",
      "2022-05-02 19:24:47.571631: I tensorflow/stream_executor/cuda/cuda_gpu_executor.cc:936] successful NUMA node read from SysFS had negative value (-1), but there must be at least one NUMA node, so returning NUMA node zero\n",
      "2022-05-02 19:24:47.577997: W tensorflow/stream_executor/platform/default/dso_loader.cc:64] Could not load dynamic library 'libcudnn.so.8'; dlerror: libcudnn.so.8: cannot open shared object file: No such file or directory\n",
      "2022-05-02 19:24:47.578161: W tensorflow/core/common_runtime/gpu/gpu_device.cc:1850] Cannot dlopen some GPU libraries. Please make sure the missing libraries mentioned above are installed properly if you would like to use GPU. Follow the guide at https://www.tensorflow.org/install/gpu for how to download and setup the required libraries for your platform.\n",
      "Skipping registering GPU devices...\n",
      "2022-05-02 19:24:47.578443: I tensorflow/core/platform/cpu_feature_guard.cc:151] This TensorFlow binary is optimized with oneAPI Deep Neural Network Library (oneDNN) to use the following CPU instructions in performance-critical operations:  AVX2 FMA\n",
      "To enable them in other operations, rebuild TensorFlow with the appropriate compiler flags.\n",
      "/home/brad/.local/lib/python3.9/site-packages/joblib/externals/loky/process_executor.py:702: UserWarning: A worker stopped while some jobs were given to the executor. This can be caused by a too short worker timeout or by a memory leak.\n",
      "  warnings.warn(\n",
      "2022-05-02 19:36:27.454088: I tensorflow/stream_executor/cuda/cuda_gpu_executor.cc:936] successful NUMA node read from SysFS had negative value (-1), but there must be at least one NUMA node, so returning NUMA node zero\n",
      "2022-05-02 19:36:27.477220: W tensorflow/stream_executor/platform/default/dso_loader.cc:64] Could not load dynamic library 'libcudnn.so.8'; dlerror: libcudnn.so.8: cannot open shared object file: No such file or directory\n",
      "2022-05-02 19:36:27.478376: W tensorflow/core/common_runtime/gpu/gpu_device.cc:1850] Cannot dlopen some GPU libraries. Please make sure the missing libraries mentioned above are installed properly if you would like to use GPU. Follow the guide at https://www.tensorflow.org/install/gpu for how to download and setup the required libraries for your platform.\n",
      "Skipping registering GPU devices...\n",
      "2022-05-02 19:36:27.478691: I tensorflow/core/platform/cpu_feature_guard.cc:151] This TensorFlow binary is optimized with oneAPI Deep Neural Network Library (oneDNN) to use the following CPU instructions in performance-critical operations:  AVX2 FMA\n",
      "To enable them in other operations, rebuild TensorFlow with the appropriate compiler flags.\n",
      "2022-05-02 19:38:00.593605: I tensorflow/stream_executor/cuda/cuda_gpu_executor.cc:936] successful NUMA node read from SysFS had negative value (-1), but there must be at least one NUMA node, so returning NUMA node zero\n",
      "2022-05-02 19:38:00.599741: W tensorflow/stream_executor/platform/default/dso_loader.cc:64] Could not load dynamic library 'libcudnn.so.8'; dlerror: libcudnn.so.8: cannot open shared object file: No such file or directory\n",
      "2022-05-02 19:38:00.599765: W tensorflow/core/common_runtime/gpu/gpu_device.cc:1850] Cannot dlopen some GPU libraries. Please make sure the missing libraries mentioned above are installed properly if you would like to use GPU. Follow the guide at https://www.tensorflow.org/install/gpu for how to download and setup the required libraries for your platform.\n",
      "Skipping registering GPU devices...\n",
      "2022-05-02 19:38:00.599996: I tensorflow/core/platform/cpu_feature_guard.cc:151] This TensorFlow binary is optimized with oneAPI Deep Neural Network Library (oneDNN) to use the following CPU instructions in performance-critical operations:  AVX2 FMA\n",
      "To enable them in other operations, rebuild TensorFlow with the appropriate compiler flags.\n",
      "2022-05-02 19:38:05.933443: I tensorflow/stream_executor/cuda/cuda_gpu_executor.cc:936] successful NUMA node read from SysFS had negative value (-1), but there must be at least one NUMA node, so returning NUMA node zero\n",
      "2022-05-02 19:38:05.939959: W tensorflow/stream_executor/platform/default/dso_loader.cc:64] Could not load dynamic library 'libcudnn.so.8'; dlerror: libcudnn.so.8: cannot open shared object file: No such file or directory\n",
      "2022-05-02 19:38:05.940046: W tensorflow/core/common_runtime/gpu/gpu_device.cc:1850] Cannot dlopen some GPU libraries. Please make sure the missing libraries mentioned above are installed properly if you would like to use GPU. Follow the guide at https://www.tensorflow.org/install/gpu for how to download and setup the required libraries for your platform.\n",
      "Skipping registering GPU devices...\n",
      "2022-05-02 19:38:05.940357: I tensorflow/core/platform/cpu_feature_guard.cc:151] This TensorFlow binary is optimized with oneAPI Deep Neural Network Library (oneDNN) to use the following CPU instructions in performance-critical operations:  AVX2 FMA\n",
      "To enable them in other operations, rebuild TensorFlow with the appropriate compiler flags.\n",
      "2022-05-02 19:38:06.877187: I tensorflow/stream_executor/cuda/cuda_gpu_executor.cc:936] successful NUMA node read from SysFS had negative value (-1), but there must be at least one NUMA node, so returning NUMA node zero\n",
      "2022-05-02 19:38:06.883344: W tensorflow/stream_executor/platform/default/dso_loader.cc:64] Could not load dynamic library 'libcudnn.so.8'; dlerror: libcudnn.so.8: cannot open shared object file: No such file or directory\n",
      "2022-05-02 19:38:06.883407: W tensorflow/core/common_runtime/gpu/gpu_device.cc:1850] Cannot dlopen some GPU libraries. Please make sure the missing libraries mentioned above are installed properly if you would like to use GPU. Follow the guide at https://www.tensorflow.org/install/gpu for how to download and setup the required libraries for your platform.\n",
      "Skipping registering GPU devices...\n",
      "2022-05-02 19:38:06.883665: I tensorflow/core/platform/cpu_feature_guard.cc:151] This TensorFlow binary is optimized with oneAPI Deep Neural Network Library (oneDNN) to use the following CPU instructions in performance-critical operations:  AVX2 FMA\n",
      "To enable them in other operations, rebuild TensorFlow with the appropriate compiler flags.\n"
     ]
    },
    {
     "name": "stderr",
     "output_type": "stream",
     "text": [
      "2022-05-02 19:38:16.029836: I tensorflow/stream_executor/cuda/cuda_gpu_executor.cc:936] successful NUMA node read from SysFS had negative value (-1), but there must be at least one NUMA node, so returning NUMA node zero\n",
      "2022-05-02 19:38:16.035445: W tensorflow/stream_executor/platform/default/dso_loader.cc:64] Could not load dynamic library 'libcudnn.so.8'; dlerror: libcudnn.so.8: cannot open shared object file: No such file or directory\n",
      "2022-05-02 19:38:16.035564: W tensorflow/core/common_runtime/gpu/gpu_device.cc:1850] Cannot dlopen some GPU libraries. Please make sure the missing libraries mentioned above are installed properly if you would like to use GPU. Follow the guide at https://www.tensorflow.org/install/gpu for how to download and setup the required libraries for your platform.\n",
      "Skipping registering GPU devices...\n",
      "2022-05-02 19:38:16.035808: I tensorflow/core/platform/cpu_feature_guard.cc:151] This TensorFlow binary is optimized with oneAPI Deep Neural Network Library (oneDNN) to use the following CPU instructions in performance-critical operations:  AVX2 FMA\n",
      "To enable them in other operations, rebuild TensorFlow with the appropriate compiler flags.\n",
      "2022-05-02 19:38:20.532918: I tensorflow/stream_executor/cuda/cuda_gpu_executor.cc:936] successful NUMA node read from SysFS had negative value (-1), but there must be at least one NUMA node, so returning NUMA node zero\n",
      "2022-05-02 19:38:20.539116: W tensorflow/stream_executor/platform/default/dso_loader.cc:64] Could not load dynamic library 'libcudnn.so.8'; dlerror: libcudnn.so.8: cannot open shared object file: No such file or directory\n",
      "2022-05-02 19:38:20.539137: W tensorflow/core/common_runtime/gpu/gpu_device.cc:1850] Cannot dlopen some GPU libraries. Please make sure the missing libraries mentioned above are installed properly if you would like to use GPU. Follow the guide at https://www.tensorflow.org/install/gpu for how to download and setup the required libraries for your platform.\n",
      "Skipping registering GPU devices...\n",
      "2022-05-02 19:38:20.539373: I tensorflow/core/platform/cpu_feature_guard.cc:151] This TensorFlow binary is optimized with oneAPI Deep Neural Network Library (oneDNN) to use the following CPU instructions in performance-critical operations:  AVX2 FMA\n",
      "To enable them in other operations, rebuild TensorFlow with the appropriate compiler flags.\n",
      "2022-05-02 19:38:25.037569: I tensorflow/stream_executor/cuda/cuda_gpu_executor.cc:936] successful NUMA node read from SysFS had negative value (-1), but there must be at least one NUMA node, so returning NUMA node zero\n",
      "2022-05-02 19:38:25.045325: W tensorflow/stream_executor/platform/default/dso_loader.cc:64] Could not load dynamic library 'libcudnn.so.8'; dlerror: libcudnn.so.8: cannot open shared object file: No such file or directory\n",
      "2022-05-02 19:38:25.045398: W tensorflow/core/common_runtime/gpu/gpu_device.cc:1850] Cannot dlopen some GPU libraries. Please make sure the missing libraries mentioned above are installed properly if you would like to use GPU. Follow the guide at https://www.tensorflow.org/install/gpu for how to download and setup the required libraries for your platform.\n",
      "Skipping registering GPU devices...\n",
      "2022-05-02 19:38:25.045668: I tensorflow/core/platform/cpu_feature_guard.cc:151] This TensorFlow binary is optimized with oneAPI Deep Neural Network Library (oneDNN) to use the following CPU instructions in performance-critical operations:  AVX2 FMA\n",
      "To enable them in other operations, rebuild TensorFlow with the appropriate compiler flags.\n",
      "2022-05-02 19:38:25.450281: I tensorflow/stream_executor/cuda/cuda_gpu_executor.cc:936] successful NUMA node read from SysFS had negative value (-1), but there must be at least one NUMA node, so returning NUMA node zero\n",
      "2022-05-02 19:38:25.456328: W tensorflow/stream_executor/platform/default/dso_loader.cc:64] Could not load dynamic library 'libcudnn.so.8'; dlerror: libcudnn.so.8: cannot open shared object file: No such file or directory\n",
      "2022-05-02 19:38:25.456437: W tensorflow/core/common_runtime/gpu/gpu_device.cc:1850] Cannot dlopen some GPU libraries. Please make sure the missing libraries mentioned above are installed properly if you would like to use GPU. Follow the guide at https://www.tensorflow.org/install/gpu for how to download and setup the required libraries for your platform.\n",
      "Skipping registering GPU devices...\n",
      "2022-05-02 19:38:25.456734: I tensorflow/core/platform/cpu_feature_guard.cc:151] This TensorFlow binary is optimized with oneAPI Deep Neural Network Library (oneDNN) to use the following CPU instructions in performance-critical operations:  AVX2 FMA\n",
      "To enable them in other operations, rebuild TensorFlow with the appropriate compiler flags.\n",
      "2022-05-02 19:38:26.336841: I tensorflow/stream_executor/cuda/cuda_gpu_executor.cc:936] successful NUMA node read from SysFS had negative value (-1), but there must be at least one NUMA node, so returning NUMA node zero\n",
      "2022-05-02 19:38:26.342959: W tensorflow/stream_executor/platform/default/dso_loader.cc:64] Could not load dynamic library 'libcudnn.so.8'; dlerror: libcudnn.so.8: cannot open shared object file: No such file or directory\n",
      "2022-05-02 19:38:26.342985: W tensorflow/core/common_runtime/gpu/gpu_device.cc:1850] Cannot dlopen some GPU libraries. Please make sure the missing libraries mentioned above are installed properly if you would like to use GPU. Follow the guide at https://www.tensorflow.org/install/gpu for how to download and setup the required libraries for your platform.\n",
      "Skipping registering GPU devices...\n",
      "2022-05-02 19:38:26.343213: I tensorflow/core/platform/cpu_feature_guard.cc:151] This TensorFlow binary is optimized with oneAPI Deep Neural Network Library (oneDNN) to use the following CPU instructions in performance-critical operations:  AVX2 FMA\n",
      "To enable them in other operations, rebuild TensorFlow with the appropriate compiler flags.\n",
      "2022-05-02 19:38:29.009435: I tensorflow/stream_executor/cuda/cuda_gpu_executor.cc:936] successful NUMA node read from SysFS had negative value (-1), but there must be at least one NUMA node, so returning NUMA node zero\n",
      "2022-05-02 19:38:29.015267: W tensorflow/stream_executor/platform/default/dso_loader.cc:64] Could not load dynamic library 'libcudnn.so.8'; dlerror: libcudnn.so.8: cannot open shared object file: No such file or directory\n",
      "2022-05-02 19:38:29.015290: W tensorflow/core/common_runtime/gpu/gpu_device.cc:1850] Cannot dlopen some GPU libraries. Please make sure the missing libraries mentioned above are installed properly if you would like to use GPU. Follow the guide at https://www.tensorflow.org/install/gpu for how to download and setup the required libraries for your platform.\n",
      "Skipping registering GPU devices...\n",
      "2022-05-02 19:38:29.015537: I tensorflow/core/platform/cpu_feature_guard.cc:151] This TensorFlow binary is optimized with oneAPI Deep Neural Network Library (oneDNN) to use the following CPU instructions in performance-critical operations:  AVX2 FMA\n",
      "To enable them in other operations, rebuild TensorFlow with the appropriate compiler flags.\n",
      "2022-05-02 19:38:37.945605: I tensorflow/stream_executor/cuda/cuda_gpu_executor.cc:936] successful NUMA node read from SysFS had negative value (-1), but there must be at least one NUMA node, so returning NUMA node zero\n",
      "2022-05-02 19:38:37.952605: W tensorflow/stream_executor/platform/default/dso_loader.cc:64] Could not load dynamic library 'libcudnn.so.8'; dlerror: libcudnn.so.8: cannot open shared object file: No such file or directory\n",
      "2022-05-02 19:38:37.952758: W tensorflow/core/common_runtime/gpu/gpu_device.cc:1850] Cannot dlopen some GPU libraries. Please make sure the missing libraries mentioned above are installed properly if you would like to use GPU. Follow the guide at https://www.tensorflow.org/install/gpu for how to download and setup the required libraries for your platform.\n",
      "Skipping registering GPU devices...\n",
      "2022-05-02 19:38:37.953078: I tensorflow/core/platform/cpu_feature_guard.cc:151] This TensorFlow binary is optimized with oneAPI Deep Neural Network Library (oneDNN) to use the following CPU instructions in performance-critical operations:  AVX2 FMA\n",
      "To enable them in other operations, rebuild TensorFlow with the appropriate compiler flags.\n"
     ]
    },
    {
     "name": "stderr",
     "output_type": "stream",
     "text": [
      "2022-05-02 19:38:41.757860: I tensorflow/stream_executor/cuda/cuda_gpu_executor.cc:936] successful NUMA node read from SysFS had negative value (-1), but there must be at least one NUMA node, so returning NUMA node zero\n",
      "2022-05-02 19:38:41.764452: W tensorflow/stream_executor/platform/default/dso_loader.cc:64] Could not load dynamic library 'libcudnn.so.8'; dlerror: libcudnn.so.8: cannot open shared object file: No such file or directory\n",
      "2022-05-02 19:38:41.764480: W tensorflow/core/common_runtime/gpu/gpu_device.cc:1850] Cannot dlopen some GPU libraries. Please make sure the missing libraries mentioned above are installed properly if you would like to use GPU. Follow the guide at https://www.tensorflow.org/install/gpu for how to download and setup the required libraries for your platform.\n",
      "Skipping registering GPU devices...\n",
      "2022-05-02 19:38:41.764733: I tensorflow/core/platform/cpu_feature_guard.cc:151] This TensorFlow binary is optimized with oneAPI Deep Neural Network Library (oneDNN) to use the following CPU instructions in performance-critical operations:  AVX2 FMA\n",
      "To enable them in other operations, rebuild TensorFlow with the appropriate compiler flags.\n",
      "2022-05-02 19:38:42.832864: I tensorflow/stream_executor/cuda/cuda_gpu_executor.cc:936] successful NUMA node read from SysFS had negative value (-1), but there must be at least one NUMA node, so returning NUMA node zero\n",
      "2022-05-02 19:38:42.840139: W tensorflow/stream_executor/platform/default/dso_loader.cc:64] Could not load dynamic library 'libcudnn.so.8'; dlerror: libcudnn.so.8: cannot open shared object file: No such file or directory\n",
      "2022-05-02 19:38:42.840293: W tensorflow/core/common_runtime/gpu/gpu_device.cc:1850] Cannot dlopen some GPU libraries. Please make sure the missing libraries mentioned above are installed properly if you would like to use GPU. Follow the guide at https://www.tensorflow.org/install/gpu for how to download and setup the required libraries for your platform.\n",
      "Skipping registering GPU devices...\n",
      "2022-05-02 19:38:42.840547: I tensorflow/core/platform/cpu_feature_guard.cc:151] This TensorFlow binary is optimized with oneAPI Deep Neural Network Library (oneDNN) to use the following CPU instructions in performance-critical operations:  AVX2 FMA\n",
      "To enable them in other operations, rebuild TensorFlow with the appropriate compiler flags.\n",
      "2022-05-02 19:38:47.529569: I tensorflow/stream_executor/cuda/cuda_gpu_executor.cc:936] successful NUMA node read from SysFS had negative value (-1), but there must be at least one NUMA node, so returning NUMA node zero\n",
      "2022-05-02 19:38:47.535728: W tensorflow/stream_executor/platform/default/dso_loader.cc:64] Could not load dynamic library 'libcudnn.so.8'; dlerror: libcudnn.so.8: cannot open shared object file: No such file or directory\n",
      "2022-05-02 19:38:47.535748: W tensorflow/core/common_runtime/gpu/gpu_device.cc:1850] Cannot dlopen some GPU libraries. Please make sure the missing libraries mentioned above are installed properly if you would like to use GPU. Follow the guide at https://www.tensorflow.org/install/gpu for how to download and setup the required libraries for your platform.\n",
      "Skipping registering GPU devices...\n",
      "2022-05-02 19:38:47.536000: I tensorflow/core/platform/cpu_feature_guard.cc:151] This TensorFlow binary is optimized with oneAPI Deep Neural Network Library (oneDNN) to use the following CPU instructions in performance-critical operations:  AVX2 FMA\n",
      "To enable them in other operations, rebuild TensorFlow with the appropriate compiler flags.\n",
      "2022-05-02 19:38:51.782298: I tensorflow/stream_executor/cuda/cuda_gpu_executor.cc:936] successful NUMA node read from SysFS had negative value (-1), but there must be at least one NUMA node, so returning NUMA node zero\n",
      "2022-05-02 19:38:51.789178: W tensorflow/stream_executor/platform/default/dso_loader.cc:64] Could not load dynamic library 'libcudnn.so.8'; dlerror: libcudnn.so.8: cannot open shared object file: No such file or directory\n",
      "2022-05-02 19:38:51.789272: W tensorflow/core/common_runtime/gpu/gpu_device.cc:1850] Cannot dlopen some GPU libraries. Please make sure the missing libraries mentioned above are installed properly if you would like to use GPU. Follow the guide at https://www.tensorflow.org/install/gpu for how to download and setup the required libraries for your platform.\n",
      "Skipping registering GPU devices...\n",
      "2022-05-02 19:38:51.789614: I tensorflow/core/platform/cpu_feature_guard.cc:151] This TensorFlow binary is optimized with oneAPI Deep Neural Network Library (oneDNN) to use the following CPU instructions in performance-critical operations:  AVX2 FMA\n",
      "To enable them in other operations, rebuild TensorFlow with the appropriate compiler flags.\n",
      "2022-05-02 19:39:18.877422: I tensorflow/stream_executor/cuda/cuda_gpu_executor.cc:936] successful NUMA node read from SysFS had negative value (-1), but there must be at least one NUMA node, so returning NUMA node zero\n",
      "2022-05-02 19:39:18.883558: W tensorflow/stream_executor/platform/default/dso_loader.cc:64] Could not load dynamic library 'libcudnn.so.8'; dlerror: libcudnn.so.8: cannot open shared object file: No such file or directory\n",
      "2022-05-02 19:39:18.883631: W tensorflow/core/common_runtime/gpu/gpu_device.cc:1850] Cannot dlopen some GPU libraries. Please make sure the missing libraries mentioned above are installed properly if you would like to use GPU. Follow the guide at https://www.tensorflow.org/install/gpu for how to download and setup the required libraries for your platform.\n",
      "Skipping registering GPU devices...\n",
      "2022-05-02 19:39:18.883904: I tensorflow/core/platform/cpu_feature_guard.cc:151] This TensorFlow binary is optimized with oneAPI Deep Neural Network Library (oneDNN) to use the following CPU instructions in performance-critical operations:  AVX2 FMA\n",
      "To enable them in other operations, rebuild TensorFlow with the appropriate compiler flags.\n",
      "2022-05-02 19:51:07.147064: I tensorflow/stream_executor/cuda/cuda_gpu_executor.cc:936] successful NUMA node read from SysFS had negative value (-1), but there must be at least one NUMA node, so returning NUMA node zero\n",
      "2022-05-02 19:51:07.155834: W tensorflow/stream_executor/platform/default/dso_loader.cc:64] Could not load dynamic library 'libcudnn.so.8'; dlerror: libcudnn.so.8: cannot open shared object file: No such file or directory\n",
      "2022-05-02 19:51:07.156079: W tensorflow/core/common_runtime/gpu/gpu_device.cc:1850] Cannot dlopen some GPU libraries. Please make sure the missing libraries mentioned above are installed properly if you would like to use GPU. Follow the guide at https://www.tensorflow.org/install/gpu for how to download and setup the required libraries for your platform.\n",
      "Skipping registering GPU devices...\n",
      "2022-05-02 19:51:07.156362: I tensorflow/core/platform/cpu_feature_guard.cc:151] This TensorFlow binary is optimized with oneAPI Deep Neural Network Library (oneDNN) to use the following CPU instructions in performance-critical operations:  AVX2 FMA\n",
      "To enable them in other operations, rebuild TensorFlow with the appropriate compiler flags.\n",
      "2022-05-02 19:52:50.605593: I tensorflow/stream_executor/cuda/cuda_gpu_executor.cc:936] successful NUMA node read from SysFS had negative value (-1), but there must be at least one NUMA node, so returning NUMA node zero\n",
      "2022-05-02 19:52:50.615076: W tensorflow/stream_executor/platform/default/dso_loader.cc:64] Could not load dynamic library 'libcudnn.so.8'; dlerror: libcudnn.so.8: cannot open shared object file: No such file or directory\n",
      "2022-05-02 19:52:50.615413: W tensorflow/core/common_runtime/gpu/gpu_device.cc:1850] Cannot dlopen some GPU libraries. Please make sure the missing libraries mentioned above are installed properly if you would like to use GPU. Follow the guide at https://www.tensorflow.org/install/gpu for how to download and setup the required libraries for your platform.\n",
      "Skipping registering GPU devices...\n",
      "2022-05-02 19:52:50.615712: I tensorflow/core/platform/cpu_feature_guard.cc:151] This TensorFlow binary is optimized with oneAPI Deep Neural Network Library (oneDNN) to use the following CPU instructions in performance-critical operations:  AVX2 FMA\n",
      "To enable them in other operations, rebuild TensorFlow with the appropriate compiler flags.\n"
     ]
    },
    {
     "name": "stderr",
     "output_type": "stream",
     "text": [
      "2022-05-02 19:54:29.676101: I tensorflow/stream_executor/cuda/cuda_gpu_executor.cc:936] successful NUMA node read from SysFS had negative value (-1), but there must be at least one NUMA node, so returning NUMA node zero\n",
      "2022-05-02 19:54:29.685292: W tensorflow/stream_executor/platform/default/dso_loader.cc:64] Could not load dynamic library 'libcudnn.so.8'; dlerror: libcudnn.so.8: cannot open shared object file: No such file or directory\n",
      "2022-05-02 19:54:29.685486: W tensorflow/core/common_runtime/gpu/gpu_device.cc:1850] Cannot dlopen some GPU libraries. Please make sure the missing libraries mentioned above are installed properly if you would like to use GPU. Follow the guide at https://www.tensorflow.org/install/gpu for how to download and setup the required libraries for your platform.\n",
      "Skipping registering GPU devices...\n",
      "2022-05-02 19:54:29.685823: I tensorflow/core/platform/cpu_feature_guard.cc:151] This TensorFlow binary is optimized with oneAPI Deep Neural Network Library (oneDNN) to use the following CPU instructions in performance-critical operations:  AVX2 FMA\n",
      "To enable them in other operations, rebuild TensorFlow with the appropriate compiler flags.\n",
      "2022-05-02 19:54:33.067972: I tensorflow/stream_executor/cuda/cuda_gpu_executor.cc:936] successful NUMA node read from SysFS had negative value (-1), but there must be at least one NUMA node, so returning NUMA node zero\n",
      "2022-05-02 19:54:33.074857: W tensorflow/stream_executor/platform/default/dso_loader.cc:64] Could not load dynamic library 'libcudnn.so.8'; dlerror: libcudnn.so.8: cannot open shared object file: No such file or directory\n",
      "2022-05-02 19:54:33.074884: W tensorflow/core/common_runtime/gpu/gpu_device.cc:1850] Cannot dlopen some GPU libraries. Please make sure the missing libraries mentioned above are installed properly if you would like to use GPU. Follow the guide at https://www.tensorflow.org/install/gpu for how to download and setup the required libraries for your platform.\n",
      "Skipping registering GPU devices...\n",
      "2022-05-02 19:54:33.075153: I tensorflow/core/platform/cpu_feature_guard.cc:151] This TensorFlow binary is optimized with oneAPI Deep Neural Network Library (oneDNN) to use the following CPU instructions in performance-critical operations:  AVX2 FMA\n",
      "To enable them in other operations, rebuild TensorFlow with the appropriate compiler flags.\n",
      "2022-05-02 19:54:35.215480: I tensorflow/stream_executor/cuda/cuda_gpu_executor.cc:936] successful NUMA node read from SysFS had negative value (-1), but there must be at least one NUMA node, so returning NUMA node zero\n",
      "2022-05-02 19:54:35.222278: W tensorflow/stream_executor/platform/default/dso_loader.cc:64] Could not load dynamic library 'libcudnn.so.8'; dlerror: libcudnn.so.8: cannot open shared object file: No such file or directory\n",
      "2022-05-02 19:54:35.222359: W tensorflow/core/common_runtime/gpu/gpu_device.cc:1850] Cannot dlopen some GPU libraries. Please make sure the missing libraries mentioned above are installed properly if you would like to use GPU. Follow the guide at https://www.tensorflow.org/install/gpu for how to download and setup the required libraries for your platform.\n",
      "Skipping registering GPU devices...\n",
      "2022-05-02 19:54:35.222603: I tensorflow/core/platform/cpu_feature_guard.cc:151] This TensorFlow binary is optimized with oneAPI Deep Neural Network Library (oneDNN) to use the following CPU instructions in performance-critical operations:  AVX2 FMA\n",
      "To enable them in other operations, rebuild TensorFlow with the appropriate compiler flags.\n",
      "2022-05-02 19:54:39.093631: I tensorflow/stream_executor/cuda/cuda_gpu_executor.cc:936] successful NUMA node read from SysFS had negative value (-1), but there must be at least one NUMA node, so returning NUMA node zero\n",
      "2022-05-02 19:54:39.099774: W tensorflow/stream_executor/platform/default/dso_loader.cc:64] Could not load dynamic library 'libcudnn.so.8'; dlerror: libcudnn.so.8: cannot open shared object file: No such file or directory\n",
      "2022-05-02 19:54:39.100051: W tensorflow/core/common_runtime/gpu/gpu_device.cc:1850] Cannot dlopen some GPU libraries. Please make sure the missing libraries mentioned above are installed properly if you would like to use GPU. Follow the guide at https://www.tensorflow.org/install/gpu for how to download and setup the required libraries for your platform.\n",
      "Skipping registering GPU devices...\n",
      "2022-05-02 19:54:39.100381: I tensorflow/core/platform/cpu_feature_guard.cc:151] This TensorFlow binary is optimized with oneAPI Deep Neural Network Library (oneDNN) to use the following CPU instructions in performance-critical operations:  AVX2 FMA\n",
      "To enable them in other operations, rebuild TensorFlow with the appropriate compiler flags.\n",
      "2022-05-02 19:54:56.154424: I tensorflow/stream_executor/cuda/cuda_gpu_executor.cc:936] successful NUMA node read from SysFS had negative value (-1), but there must be at least one NUMA node, so returning NUMA node zero\n",
      "2022-05-02 19:54:56.166127: W tensorflow/stream_executor/platform/default/dso_loader.cc:64] Could not load dynamic library 'libcudnn.so.8'; dlerror: libcudnn.so.8: cannot open shared object file: No such file or directory\n",
      "2022-05-02 19:54:56.166262: W tensorflow/core/common_runtime/gpu/gpu_device.cc:1850] Cannot dlopen some GPU libraries. Please make sure the missing libraries mentioned above are installed properly if you would like to use GPU. Follow the guide at https://www.tensorflow.org/install/gpu for how to download and setup the required libraries for your platform.\n",
      "Skipping registering GPU devices...\n",
      "2022-05-02 19:54:56.166600: I tensorflow/core/platform/cpu_feature_guard.cc:151] This TensorFlow binary is optimized with oneAPI Deep Neural Network Library (oneDNN) to use the following CPU instructions in performance-critical operations:  AVX2 FMA\n",
      "To enable them in other operations, rebuild TensorFlow with the appropriate compiler flags.\n",
      "2022-05-02 19:54:59.702049: I tensorflow/stream_executor/cuda/cuda_gpu_executor.cc:936] successful NUMA node read from SysFS had negative value (-1), but there must be at least one NUMA node, so returning NUMA node zero\n",
      "2022-05-02 19:54:59.709422: W tensorflow/stream_executor/platform/default/dso_loader.cc:64] Could not load dynamic library 'libcudnn.so.8'; dlerror: libcudnn.so.8: cannot open shared object file: No such file or directory\n",
      "2022-05-02 19:54:59.710497: W tensorflow/core/common_runtime/gpu/gpu_device.cc:1850] Cannot dlopen some GPU libraries. Please make sure the missing libraries mentioned above are installed properly if you would like to use GPU. Follow the guide at https://www.tensorflow.org/install/gpu for how to download and setup the required libraries for your platform.\n",
      "Skipping registering GPU devices...\n",
      "2022-05-02 19:54:59.710755: I tensorflow/core/platform/cpu_feature_guard.cc:151] This TensorFlow binary is optimized with oneAPI Deep Neural Network Library (oneDNN) to use the following CPU instructions in performance-critical operations:  AVX2 FMA\n",
      "To enable them in other operations, rebuild TensorFlow with the appropriate compiler flags.\n",
      "2022-05-02 19:55:11.673514: I tensorflow/stream_executor/cuda/cuda_gpu_executor.cc:936] successful NUMA node read from SysFS had negative value (-1), but there must be at least one NUMA node, so returning NUMA node zero\n",
      "2022-05-02 19:55:11.681270: W tensorflow/stream_executor/platform/default/dso_loader.cc:64] Could not load dynamic library 'libcudnn.so.8'; dlerror: libcudnn.so.8: cannot open shared object file: No such file or directory\n",
      "2022-05-02 19:55:11.681350: W tensorflow/core/common_runtime/gpu/gpu_device.cc:1850] Cannot dlopen some GPU libraries. Please make sure the missing libraries mentioned above are installed properly if you would like to use GPU. Follow the guide at https://www.tensorflow.org/install/gpu for how to download and setup the required libraries for your platform.\n",
      "Skipping registering GPU devices...\n",
      "2022-05-02 19:55:11.681772: I tensorflow/core/platform/cpu_feature_guard.cc:151] This TensorFlow binary is optimized with oneAPI Deep Neural Network Library (oneDNN) to use the following CPU instructions in performance-critical operations:  AVX2 FMA\n",
      "To enable them in other operations, rebuild TensorFlow with the appropriate compiler flags.\n"
     ]
    },
    {
     "name": "stderr",
     "output_type": "stream",
     "text": [
      "2022-05-02 19:55:28.869893: I tensorflow/stream_executor/cuda/cuda_gpu_executor.cc:936] successful NUMA node read from SysFS had negative value (-1), but there must be at least one NUMA node, so returning NUMA node zero\n",
      "2022-05-02 19:55:28.876654: W tensorflow/stream_executor/platform/default/dso_loader.cc:64] Could not load dynamic library 'libcudnn.so.8'; dlerror: libcudnn.so.8: cannot open shared object file: No such file or directory\n",
      "2022-05-02 19:55:28.876678: W tensorflow/core/common_runtime/gpu/gpu_device.cc:1850] Cannot dlopen some GPU libraries. Please make sure the missing libraries mentioned above are installed properly if you would like to use GPU. Follow the guide at https://www.tensorflow.org/install/gpu for how to download and setup the required libraries for your platform.\n",
      "Skipping registering GPU devices...\n",
      "2022-05-02 19:55:28.876940: I tensorflow/core/platform/cpu_feature_guard.cc:151] This TensorFlow binary is optimized with oneAPI Deep Neural Network Library (oneDNN) to use the following CPU instructions in performance-critical operations:  AVX2 FMA\n",
      "To enable them in other operations, rebuild TensorFlow with the appropriate compiler flags.\n",
      "2022-05-02 19:55:29.434910: I tensorflow/stream_executor/cuda/cuda_gpu_executor.cc:936] successful NUMA node read from SysFS had negative value (-1), but there must be at least one NUMA node, so returning NUMA node zero\n",
      "2022-05-02 19:55:29.441043: W tensorflow/stream_executor/platform/default/dso_loader.cc:64] Could not load dynamic library 'libcudnn.so.8'; dlerror: libcudnn.so.8: cannot open shared object file: No such file or directory\n",
      "2022-05-02 19:55:29.441068: W tensorflow/core/common_runtime/gpu/gpu_device.cc:1850] Cannot dlopen some GPU libraries. Please make sure the missing libraries mentioned above are installed properly if you would like to use GPU. Follow the guide at https://www.tensorflow.org/install/gpu for how to download and setup the required libraries for your platform.\n",
      "Skipping registering GPU devices...\n",
      "2022-05-02 19:55:29.441308: I tensorflow/core/platform/cpu_feature_guard.cc:151] This TensorFlow binary is optimized with oneAPI Deep Neural Network Library (oneDNN) to use the following CPU instructions in performance-critical operations:  AVX2 FMA\n",
      "To enable them in other operations, rebuild TensorFlow with the appropriate compiler flags.\n",
      "2022-05-02 19:55:33.992048: I tensorflow/stream_executor/cuda/cuda_gpu_executor.cc:936] successful NUMA node read from SysFS had negative value (-1), but there must be at least one NUMA node, so returning NUMA node zero\n",
      "2022-05-02 19:55:33.999465: W tensorflow/stream_executor/platform/default/dso_loader.cc:64] Could not load dynamic library 'libcudnn.so.8'; dlerror: libcudnn.so.8: cannot open shared object file: No such file or directory\n",
      "2022-05-02 19:55:33.999541: W tensorflow/core/common_runtime/gpu/gpu_device.cc:1850] Cannot dlopen some GPU libraries. Please make sure the missing libraries mentioned above are installed properly if you would like to use GPU. Follow the guide at https://www.tensorflow.org/install/gpu for how to download and setup the required libraries for your platform.\n",
      "Skipping registering GPU devices...\n",
      "2022-05-02 19:55:33.999819: I tensorflow/core/platform/cpu_feature_guard.cc:151] This TensorFlow binary is optimized with oneAPI Deep Neural Network Library (oneDNN) to use the following CPU instructions in performance-critical operations:  AVX2 FMA\n",
      "To enable them in other operations, rebuild TensorFlow with the appropriate compiler flags.\n",
      "2022-05-02 19:55:41.922504: I tensorflow/stream_executor/cuda/cuda_gpu_executor.cc:936] successful NUMA node read from SysFS had negative value (-1), but there must be at least one NUMA node, so returning NUMA node zero\n",
      "2022-05-02 19:55:41.934931: W tensorflow/stream_executor/platform/default/dso_loader.cc:64] Could not load dynamic library 'libcudnn.so.8'; dlerror: libcudnn.so.8: cannot open shared object file: No such file or directory\n",
      "2022-05-02 19:55:41.935842: W tensorflow/core/common_runtime/gpu/gpu_device.cc:1850] Cannot dlopen some GPU libraries. Please make sure the missing libraries mentioned above are installed properly if you would like to use GPU. Follow the guide at https://www.tensorflow.org/install/gpu for how to download and setup the required libraries for your platform.\n",
      "Skipping registering GPU devices...\n",
      "2022-05-02 19:55:41.936170: I tensorflow/core/platform/cpu_feature_guard.cc:151] This TensorFlow binary is optimized with oneAPI Deep Neural Network Library (oneDNN) to use the following CPU instructions in performance-critical operations:  AVX2 FMA\n",
      "To enable them in other operations, rebuild TensorFlow with the appropriate compiler flags.\n",
      "2022-05-02 19:55:45.466233: I tensorflow/stream_executor/cuda/cuda_gpu_executor.cc:936] successful NUMA node read from SysFS had negative value (-1), but there must be at least one NUMA node, so returning NUMA node zero\n",
      "2022-05-02 19:55:45.479664: W tensorflow/stream_executor/platform/default/dso_loader.cc:64] Could not load dynamic library 'libcudnn.so.8'; dlerror: libcudnn.so.8: cannot open shared object file: No such file or directory\n",
      "2022-05-02 19:55:45.479691: W tensorflow/core/common_runtime/gpu/gpu_device.cc:1850] Cannot dlopen some GPU libraries. Please make sure the missing libraries mentioned above are installed properly if you would like to use GPU. Follow the guide at https://www.tensorflow.org/install/gpu for how to download and setup the required libraries for your platform.\n",
      "Skipping registering GPU devices...\n",
      "2022-05-02 19:55:45.479947: I tensorflow/core/platform/cpu_feature_guard.cc:151] This TensorFlow binary is optimized with oneAPI Deep Neural Network Library (oneDNN) to use the following CPU instructions in performance-critical operations:  AVX2 FMA\n",
      "To enable them in other operations, rebuild TensorFlow with the appropriate compiler flags.\n",
      "2022-05-02 19:56:19.962822: I tensorflow/stream_executor/cuda/cuda_gpu_executor.cc:936] successful NUMA node read from SysFS had negative value (-1), but there must be at least one NUMA node, so returning NUMA node zero\n",
      "2022-05-02 19:56:19.972297: W tensorflow/stream_executor/platform/default/dso_loader.cc:64] Could not load dynamic library 'libcudnn.so.8'; dlerror: libcudnn.so.8: cannot open shared object file: No such file or directory\n",
      "2022-05-02 19:56:19.975495: W tensorflow/core/common_runtime/gpu/gpu_device.cc:1850] Cannot dlopen some GPU libraries. Please make sure the missing libraries mentioned above are installed properly if you would like to use GPU. Follow the guide at https://www.tensorflow.org/install/gpu for how to download and setup the required libraries for your platform.\n",
      "Skipping registering GPU devices...\n",
      "2022-05-02 19:56:19.976609: I tensorflow/core/platform/cpu_feature_guard.cc:151] This TensorFlow binary is optimized with oneAPI Deep Neural Network Library (oneDNN) to use the following CPU instructions in performance-critical operations:  AVX2 FMA\n",
      "To enable them in other operations, rebuild TensorFlow with the appropriate compiler flags.\n",
      "2022-05-02 19:56:22.957584: I tensorflow/stream_executor/cuda/cuda_gpu_executor.cc:936] successful NUMA node read from SysFS had negative value (-1), but there must be at least one NUMA node, so returning NUMA node zero\n",
      "2022-05-02 19:56:22.964249: W tensorflow/stream_executor/platform/default/dso_loader.cc:64] Could not load dynamic library 'libcudnn.so.8'; dlerror: libcudnn.so.8: cannot open shared object file: No such file or directory\n",
      "2022-05-02 19:56:22.964275: W tensorflow/core/common_runtime/gpu/gpu_device.cc:1850] Cannot dlopen some GPU libraries. Please make sure the missing libraries mentioned above are installed properly if you would like to use GPU. Follow the guide at https://www.tensorflow.org/install/gpu for how to download and setup the required libraries for your platform.\n",
      "Skipping registering GPU devices...\n",
      "2022-05-02 19:56:22.964531: I tensorflow/core/platform/cpu_feature_guard.cc:151] This TensorFlow binary is optimized with oneAPI Deep Neural Network Library (oneDNN) to use the following CPU instructions in performance-critical operations:  AVX2 FMA\n",
      "To enable them in other operations, rebuild TensorFlow with the appropriate compiler flags.\n"
     ]
    },
    {
     "name": "stderr",
     "output_type": "stream",
     "text": [
      "2022-05-02 20:06:49.113491: I tensorflow/stream_executor/cuda/cuda_gpu_executor.cc:936] successful NUMA node read from SysFS had negative value (-1), but there must be at least one NUMA node, so returning NUMA node zero\n",
      "2022-05-02 20:06:49.120371: W tensorflow/stream_executor/platform/default/dso_loader.cc:64] Could not load dynamic library 'libcudnn.so.8'; dlerror: libcudnn.so.8: cannot open shared object file: No such file or directory\n",
      "2022-05-02 20:06:49.120516: W tensorflow/core/common_runtime/gpu/gpu_device.cc:1850] Cannot dlopen some GPU libraries. Please make sure the missing libraries mentioned above are installed properly if you would like to use GPU. Follow the guide at https://www.tensorflow.org/install/gpu for how to download and setup the required libraries for your platform.\n",
      "Skipping registering GPU devices...\n",
      "2022-05-02 20:06:49.120795: I tensorflow/core/platform/cpu_feature_guard.cc:151] This TensorFlow binary is optimized with oneAPI Deep Neural Network Library (oneDNN) to use the following CPU instructions in performance-critical operations:  AVX2 FMA\n",
      "To enable them in other operations, rebuild TensorFlow with the appropriate compiler flags.\n",
      "2022-05-02 20:09:07.637974: I tensorflow/stream_executor/cuda/cuda_gpu_executor.cc:936] successful NUMA node read from SysFS had negative value (-1), but there must be at least one NUMA node, so returning NUMA node zero\n",
      "2022-05-02 20:09:07.645409: W tensorflow/stream_executor/platform/default/dso_loader.cc:64] Could not load dynamic library 'libcudnn.so.8'; dlerror: libcudnn.so.8: cannot open shared object file: No such file or directory\n",
      "2022-05-02 20:09:07.645580: W tensorflow/core/common_runtime/gpu/gpu_device.cc:1850] Cannot dlopen some GPU libraries. Please make sure the missing libraries mentioned above are installed properly if you would like to use GPU. Follow the guide at https://www.tensorflow.org/install/gpu for how to download and setup the required libraries for your platform.\n",
      "Skipping registering GPU devices...\n",
      "2022-05-02 20:09:07.645921: I tensorflow/core/platform/cpu_feature_guard.cc:151] This TensorFlow binary is optimized with oneAPI Deep Neural Network Library (oneDNN) to use the following CPU instructions in performance-critical operations:  AVX2 FMA\n",
      "To enable them in other operations, rebuild TensorFlow with the appropriate compiler flags.\n",
      "2022-05-02 20:10:14.754420: I tensorflow/stream_executor/cuda/cuda_gpu_executor.cc:936] successful NUMA node read from SysFS had negative value (-1), but there must be at least one NUMA node, so returning NUMA node zero\n",
      "2022-05-02 20:10:14.762317: W tensorflow/stream_executor/platform/default/dso_loader.cc:64] Could not load dynamic library 'libcudnn.so.8'; dlerror: libcudnn.so.8: cannot open shared object file: No such file or directory\n",
      "2022-05-02 20:10:14.762471: W tensorflow/core/common_runtime/gpu/gpu_device.cc:1850] Cannot dlopen some GPU libraries. Please make sure the missing libraries mentioned above are installed properly if you would like to use GPU. Follow the guide at https://www.tensorflow.org/install/gpu for how to download and setup the required libraries for your platform.\n",
      "Skipping registering GPU devices...\n",
      "2022-05-02 20:10:14.762951: I tensorflow/core/platform/cpu_feature_guard.cc:151] This TensorFlow binary is optimized with oneAPI Deep Neural Network Library (oneDNN) to use the following CPU instructions in performance-critical operations:  AVX2 FMA\n",
      "To enable them in other operations, rebuild TensorFlow with the appropriate compiler flags.\n"
     ]
    }
   ],
   "source": [
    "import warnings\n",
    "warnings.filterwarnings(\"ignore\", category=DeprecationWarning)\n",
    "import os\n",
    "os.environ['CUDA_VISIBLE_DEVICES'] = \"0\"\n",
    "from sklearn.model_selection import GridSearchCV, RandomizedSearchCV\n",
    "from keras.models import Sequential\n",
    "from keras.layers import Dense, Dropout\n",
    "from keras.wrappers.scikit_learn import KerasClassifier\n",
    "#from keras.optimizers import Adam\n",
    "\n",
    "def createmodel(n_layers, first_layer_nodes, second_layer_nodes, learning_rate=.1):\n",
    "    model = Sequential()\n",
    "    \n",
    "    #n_nodes = FindLayerNodesLinear(n_layers, first_layer_nodes, last_layer_nodes)\n",
    "    for i in range(2):\n",
    "        if i==0:\n",
    "            model.add(Dense(first_layer_nodes, input_dim=16, activation='sigmoid'))\n",
    "        else:\n",
    "            model.add(Dense(second_layer_nodes, activation='sigmoid'))\n",
    "            \n",
    "    #Finally, the output layer should have a single node in binary classification\n",
    "    model.add(Dense(7, activation='sigmoid'))\n",
    "    model.compile(optimizer=SGD(learning_rate=learning_rate), \n",
    "                  loss='mse', metrics = [\"accuracy\"]) #note: metrics could also be 'mse'\n",
    "    \n",
    "    return model\n",
    "\n",
    "param_grid = dict(n_layers=[2], first_layer_nodes = [16, 12, 8], second_layer_nodes=[16,8,3],\n",
    "                  epochs = [500, 750, 1000], learning_rate= [.15, .3, .45])\n",
    "\n",
    "model = KerasClassifier(build_fn=createmodel, verbose=0)\n",
    "grid = GridSearchCV(estimator=model, param_grid=param_grid, n_jobs=-1, cv=3)\n",
    "grid_result = grid.fit(x,y)\n"
   ]
  },
  {
   "cell_type": "code",
   "execution_count": 22,
   "id": "04d46da3",
   "metadata": {
    "scrolled": false
   },
   "outputs": [
    {
     "name": "stdout",
     "output_type": "stream",
     "text": [
      "Best: 0.635442 using {'epochs': 1000, 'first_layer_nodes': 8, 'learning_rate': 0.3, 'n_layers': 2, 'second_layer_nodes': 8}\n",
      "0.603336 (0.019225) with: {'epochs': 500, 'first_layer_nodes': 16, 'learning_rate': 0.15, 'n_layers': 2, 'second_layer_nodes': 16}\n",
      "0.566086 (0.018776) with: {'epochs': 500, 'first_layer_nodes': 16, 'learning_rate': 0.15, 'n_layers': 2, 'second_layer_nodes': 8}\n",
      "0.568217 (0.045830) with: {'epochs': 500, 'first_layer_nodes': 16, 'learning_rate': 0.15, 'n_layers': 2, 'second_layer_nodes': 3}\n",
      "0.631328 (0.006287) with: {'epochs': 500, 'first_layer_nodes': 16, 'learning_rate': 0.3, 'n_layers': 2, 'second_layer_nodes': 16}\n",
      "0.628095 (0.004833) with: {'epochs': 500, 'first_layer_nodes': 16, 'learning_rate': 0.3, 'n_layers': 2, 'second_layer_nodes': 8}\n",
      "0.617148 (0.006276) with: {'epochs': 500, 'first_layer_nodes': 16, 'learning_rate': 0.3, 'n_layers': 2, 'second_layer_nodes': 3}\n",
      "0.635001 (0.008960) with: {'epochs': 500, 'first_layer_nodes': 16, 'learning_rate': 0.45, 'n_layers': 2, 'second_layer_nodes': 16}\n",
      "0.632724 (0.008196) with: {'epochs': 500, 'first_layer_nodes': 16, 'learning_rate': 0.45, 'n_layers': 2, 'second_layer_nodes': 8}\n",
      "0.622511 (0.002893) with: {'epochs': 500, 'first_layer_nodes': 16, 'learning_rate': 0.45, 'n_layers': 2, 'second_layer_nodes': 3}\n",
      "0.599809 (0.021894) with: {'epochs': 500, 'first_layer_nodes': 12, 'learning_rate': 0.15, 'n_layers': 2, 'second_layer_nodes': 16}\n",
      "0.589964 (0.010027) with: {'epochs': 500, 'first_layer_nodes': 12, 'learning_rate': 0.15, 'n_layers': 2, 'second_layer_nodes': 8}\n",
      "0.433473 (0.119816) with: {'epochs': 500, 'first_layer_nodes': 12, 'learning_rate': 0.15, 'n_layers': 2, 'second_layer_nodes': 3}\n",
      "0.629197 (0.007199) with: {'epochs': 500, 'first_layer_nodes': 12, 'learning_rate': 0.3, 'n_layers': 2, 'second_layer_nodes': 16}\n",
      "0.627360 (0.006040) with: {'epochs': 500, 'first_layer_nodes': 12, 'learning_rate': 0.3, 'n_layers': 2, 'second_layer_nodes': 8}\n",
      "0.619058 (0.005953) with: {'epochs': 500, 'first_layer_nodes': 12, 'learning_rate': 0.3, 'n_layers': 2, 'second_layer_nodes': 3}\n",
      "0.629270 (0.006972) with: {'epochs': 500, 'first_layer_nodes': 12, 'learning_rate': 0.45, 'n_layers': 2, 'second_layer_nodes': 16}\n",
      "0.632797 (0.008062) with: {'epochs': 500, 'first_layer_nodes': 12, 'learning_rate': 0.45, 'n_layers': 2, 'second_layer_nodes': 8}\n",
      "0.623907 (0.005785) with: {'epochs': 500, 'first_layer_nodes': 12, 'learning_rate': 0.45, 'n_layers': 2, 'second_layer_nodes': 3}\n",
      "0.581001 (0.018736) with: {'epochs': 500, 'first_layer_nodes': 8, 'learning_rate': 0.15, 'n_layers': 2, 'second_layer_nodes': 16}\n",
      "0.598266 (0.012249) with: {'epochs': 500, 'first_layer_nodes': 8, 'learning_rate': 0.15, 'n_layers': 2, 'second_layer_nodes': 8}\n",
      "0.538168 (0.014143) with: {'epochs': 500, 'first_layer_nodes': 8, 'learning_rate': 0.15, 'n_layers': 2, 'second_layer_nodes': 3}\n",
      "0.629344 (0.006564) with: {'epochs': 500, 'first_layer_nodes': 8, 'learning_rate': 0.3, 'n_layers': 2, 'second_layer_nodes': 16}\n",
      "0.626405 (0.004330) with: {'epochs': 500, 'first_layer_nodes': 8, 'learning_rate': 0.3, 'n_layers': 2, 'second_layer_nodes': 8}\n",
      "0.601425 (0.020416) with: {'epochs': 500, 'first_layer_nodes': 8, 'learning_rate': 0.3, 'n_layers': 2, 'second_layer_nodes': 3}\n",
      "0.630593 (0.007246) with: {'epochs': 500, 'first_layer_nodes': 8, 'learning_rate': 0.45, 'n_layers': 2, 'second_layer_nodes': 16}\n",
      "0.633385 (0.008422) with: {'epochs': 500, 'first_layer_nodes': 8, 'learning_rate': 0.45, 'n_layers': 2, 'second_layer_nodes': 8}\n",
      "0.610683 (0.015654) with: {'epochs': 500, 'first_layer_nodes': 8, 'learning_rate': 0.45, 'n_layers': 2, 'second_layer_nodes': 3}\n",
      "0.623172 (0.008299) with: {'epochs': 750, 'first_layer_nodes': 16, 'learning_rate': 0.15, 'n_layers': 2, 'second_layer_nodes': 16}\n",
      "0.622144 (0.006199) with: {'epochs': 750, 'first_layer_nodes': 16, 'learning_rate': 0.15, 'n_layers': 2, 'second_layer_nodes': 8}\n",
      "0.590699 (0.024837) with: {'epochs': 750, 'first_layer_nodes': 16, 'learning_rate': 0.15, 'n_layers': 2, 'second_layer_nodes': 3}\n",
      "0.633899 (0.008906) with: {'epochs': 750, 'first_layer_nodes': 16, 'learning_rate': 0.3, 'n_layers': 2, 'second_layer_nodes': 16}\n",
      "0.633458 (0.007637) with: {'epochs': 750, 'first_layer_nodes': 16, 'learning_rate': 0.3, 'n_layers': 2, 'second_layer_nodes': 8}\n",
      "0.610168 (0.015715) with: {'epochs': 750, 'first_layer_nodes': 16, 'learning_rate': 0.3, 'n_layers': 2, 'second_layer_nodes': 3}\n",
      "0.633311 (0.007593) with: {'epochs': 750, 'first_layer_nodes': 16, 'learning_rate': 0.45, 'n_layers': 2, 'second_layer_nodes': 16}\n",
      "0.633458 (0.009690) with: {'epochs': 750, 'first_layer_nodes': 16, 'learning_rate': 0.45, 'n_layers': 2, 'second_layer_nodes': 8}\n",
      "0.624348 (0.004603) with: {'epochs': 750, 'first_layer_nodes': 16, 'learning_rate': 0.45, 'n_layers': 2, 'second_layer_nodes': 3}\n",
      "0.622585 (0.005343) with: {'epochs': 750, 'first_layer_nodes': 12, 'learning_rate': 0.15, 'n_layers': 2, 'second_layer_nodes': 16}\n",
      "0.620454 (0.006944) with: {'epochs': 750, 'first_layer_nodes': 12, 'learning_rate': 0.15, 'n_layers': 2, 'second_layer_nodes': 8}\n",
      "0.567482 (0.022031) with: {'epochs': 750, 'first_layer_nodes': 12, 'learning_rate': 0.15, 'n_layers': 2, 'second_layer_nodes': 3}\n",
      "0.634119 (0.009490) with: {'epochs': 750, 'first_layer_nodes': 12, 'learning_rate': 0.3, 'n_layers': 2, 'second_layer_nodes': 16}\n",
      "0.633311 (0.008981) with: {'epochs': 750, 'first_layer_nodes': 12, 'learning_rate': 0.3, 'n_layers': 2, 'second_layer_nodes': 8}\n",
      "0.622070 (0.005145) with: {'epochs': 750, 'first_layer_nodes': 12, 'learning_rate': 0.3, 'n_layers': 2, 'second_layer_nodes': 3}\n",
      "0.632870 (0.007687) with: {'epochs': 750, 'first_layer_nodes': 12, 'learning_rate': 0.45, 'n_layers': 2, 'second_layer_nodes': 16}\n",
      "0.633899 (0.007745) with: {'epochs': 750, 'first_layer_nodes': 12, 'learning_rate': 0.45, 'n_layers': 2, 'second_layer_nodes': 8}\n",
      "0.626846 (0.005016) with: {'epochs': 750, 'first_layer_nodes': 12, 'learning_rate': 0.45, 'n_layers': 2, 'second_layer_nodes': 3}\n",
      "0.623025 (0.004245) with: {'epochs': 750, 'first_layer_nodes': 8, 'learning_rate': 0.15, 'n_layers': 2, 'second_layer_nodes': 16}\n",
      "0.622438 (0.006190) with: {'epochs': 750, 'first_layer_nodes': 8, 'learning_rate': 0.15, 'n_layers': 2, 'second_layer_nodes': 8}\n",
      "0.540886 (0.071084) with: {'epochs': 750, 'first_layer_nodes': 8, 'learning_rate': 0.15, 'n_layers': 2, 'second_layer_nodes': 3}\n",
      "0.632356 (0.008778) with: {'epochs': 750, 'first_layer_nodes': 8, 'learning_rate': 0.3, 'n_layers': 2, 'second_layer_nodes': 16}\n",
      "0.634560 (0.009394) with: {'epochs': 750, 'first_layer_nodes': 8, 'learning_rate': 0.3, 'n_layers': 2, 'second_layer_nodes': 8}\n",
      "0.620748 (0.005915) with: {'epochs': 750, 'first_layer_nodes': 8, 'learning_rate': 0.3, 'n_layers': 2, 'second_layer_nodes': 3}\n",
      "0.634413 (0.008620) with: {'epochs': 750, 'first_layer_nodes': 8, 'learning_rate': 0.45, 'n_layers': 2, 'second_layer_nodes': 16}\n",
      "0.634266 (0.009024) with: {'epochs': 750, 'first_layer_nodes': 8, 'learning_rate': 0.45, 'n_layers': 2, 'second_layer_nodes': 8}\n",
      "0.622291 (0.005358) with: {'epochs': 750, 'first_layer_nodes': 8, 'learning_rate': 0.45, 'n_layers': 2, 'second_layer_nodes': 3}\n",
      "0.631768 (0.007598) with: {'epochs': 1000, 'first_layer_nodes': 16, 'learning_rate': 0.15, 'n_layers': 2, 'second_layer_nodes': 16}\n",
      "0.628242 (0.007222) with: {'epochs': 1000, 'first_layer_nodes': 16, 'learning_rate': 0.15, 'n_layers': 2, 'second_layer_nodes': 8}\n",
      "0.613989 (0.001302) with: {'epochs': 1000, 'first_layer_nodes': 16, 'learning_rate': 0.15, 'n_layers': 2, 'second_layer_nodes': 3}\n",
      "0.634560 (0.009864) with: {'epochs': 1000, 'first_layer_nodes': 16, 'learning_rate': 0.3, 'n_layers': 2, 'second_layer_nodes': 16}\n",
      "0.634119 (0.009210) with: {'epochs': 1000, 'first_layer_nodes': 16, 'learning_rate': 0.3, 'n_layers': 2, 'second_layer_nodes': 8}\n",
      "0.623907 (0.006338) with: {'epochs': 1000, 'first_layer_nodes': 16, 'learning_rate': 0.3, 'n_layers': 2, 'second_layer_nodes': 3}\n",
      "0.633973 (0.008810) with: {'epochs': 1000, 'first_layer_nodes': 16, 'learning_rate': 0.45, 'n_layers': 2, 'second_layer_nodes': 16}\n",
      "0.633385 (0.008710) with: {'epochs': 1000, 'first_layer_nodes': 16, 'learning_rate': 0.45, 'n_layers': 2, 'second_layer_nodes': 8}\n",
      "0.625670 (0.003491) with: {'epochs': 1000, 'first_layer_nodes': 16, 'learning_rate': 0.45, 'n_layers': 2, 'second_layer_nodes': 3}\n",
      "0.629858 (0.006369) with: {'epochs': 1000, 'first_layer_nodes': 12, 'learning_rate': 0.15, 'n_layers': 2, 'second_layer_nodes': 16}\n",
      "0.627654 (0.005877) with: {'epochs': 1000, 'first_layer_nodes': 12, 'learning_rate': 0.15, 'n_layers': 2, 'second_layer_nodes': 8}\n",
      "0.596503 (0.023081) with: {'epochs': 1000, 'first_layer_nodes': 12, 'learning_rate': 0.15, 'n_layers': 2, 'second_layer_nodes': 3}\n",
      "0.635001 (0.010799) with: {'epochs': 1000, 'first_layer_nodes': 12, 'learning_rate': 0.3, 'n_layers': 2, 'second_layer_nodes': 16}\n",
      "0.634413 (0.009933) with: {'epochs': 1000, 'first_layer_nodes': 12, 'learning_rate': 0.3, 'n_layers': 2, 'second_layer_nodes': 8}\n",
      "0.610609 (0.021938) with: {'epochs': 1000, 'first_layer_nodes': 12, 'learning_rate': 0.3, 'n_layers': 2, 'second_layer_nodes': 3}\n",
      "0.634266 (0.010114) with: {'epochs': 1000, 'first_layer_nodes': 12, 'learning_rate': 0.45, 'n_layers': 2, 'second_layer_nodes': 16}\n",
      "0.630373 (0.006398) with: {'epochs': 1000, 'first_layer_nodes': 12, 'learning_rate': 0.45, 'n_layers': 2, 'second_layer_nodes': 8}\n",
      "0.628830 (0.009090) with: {'epochs': 1000, 'first_layer_nodes': 12, 'learning_rate': 0.45, 'n_layers': 2, 'second_layer_nodes': 3}\n",
      "0.629270 (0.005884) with: {'epochs': 1000, 'first_layer_nodes': 8, 'learning_rate': 0.15, 'n_layers': 2, 'second_layer_nodes': 16}\n",
      "0.627875 (0.005104) with: {'epochs': 1000, 'first_layer_nodes': 8, 'learning_rate': 0.15, 'n_layers': 2, 'second_layer_nodes': 8}\n",
      "0.600544 (0.029932) with: {'epochs': 1000, 'first_layer_nodes': 8, 'learning_rate': 0.15, 'n_layers': 2, 'second_layer_nodes': 3}\n",
      "0.632870 (0.008469) with: {'epochs': 1000, 'first_layer_nodes': 8, 'learning_rate': 0.3, 'n_layers': 2, 'second_layer_nodes': 16}\n",
      "0.635442 (0.010893) with: {'epochs': 1000, 'first_layer_nodes': 8, 'learning_rate': 0.3, 'n_layers': 2, 'second_layer_nodes': 8}\n",
      "0.624495 (0.004776) with: {'epochs': 1000, 'first_layer_nodes': 8, 'learning_rate': 0.3, 'n_layers': 2, 'second_layer_nodes': 3}\n",
      "0.633385 (0.007935) with: {'epochs': 1000, 'first_layer_nodes': 8, 'learning_rate': 0.45, 'n_layers': 2, 'second_layer_nodes': 16}\n",
      "0.633164 (0.007762) with: {'epochs': 1000, 'first_layer_nodes': 8, 'learning_rate': 0.45, 'n_layers': 2, 'second_layer_nodes': 8}\n",
      "0.625744 (0.005144) with: {'epochs': 1000, 'first_layer_nodes': 8, 'learning_rate': 0.45, 'n_layers': 2, 'second_layer_nodes': 3}\n"
     ]
    }
   ],
   "source": [
    "print(\"Best: %f using %s\" % (grid_result.best_score_, grid_result.best_params_))\n",
    "means = grid_result.cv_results_['mean_test_score']\n",
    "stds = grid_result.cv_results_['std_test_score']\n",
    "params = grid_result.cv_results_['params']\n",
    "for mean, stdev, param in zip(means, stds, params):\n",
    "    print(\"%f (%f) with: %r\" % (mean, stdev, param))"
   ]
  },
  {
   "cell_type": "code",
   "execution_count": null,
   "id": "7ab77f42",
   "metadata": {},
   "outputs": [],
   "source": []
  }
 ],
 "metadata": {
  "kernelspec": {
   "display_name": "Python 3 (ipykernel)",
   "language": "python",
   "name": "python3"
  },
  "language_info": {
   "codemirror_mode": {
    "name": "ipython",
    "version": 3
   },
   "file_extension": ".py",
   "mimetype": "text/x-python",
   "name": "python",
   "nbconvert_exporter": "python",
   "pygments_lexer": "ipython3",
   "version": "3.9.7"
  }
 },
 "nbformat": 4,
 "nbformat_minor": 5
}
